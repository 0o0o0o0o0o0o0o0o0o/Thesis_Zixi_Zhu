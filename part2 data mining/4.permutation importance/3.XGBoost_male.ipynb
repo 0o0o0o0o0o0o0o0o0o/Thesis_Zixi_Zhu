{
  "cells": [
    {
      "cell_type": "markdown",
      "id": "7b6d8141",
      "metadata": {
        "id": "7b6d8141"
      },
      "source": [
        "## import"
      ]
    },
    {
      "cell_type": "code",
      "source": [
        "from google.colab import drive\n",
        "drive.mount('/gdrive', force_remount=True)"
      ],
      "metadata": {
        "colab": {
          "base_uri": "https://localhost:8080/"
        },
        "id": "i9QfoivpZI10",
        "outputId": "fbba0dab-0c9e-4811-9618-b80728c34cb3"
      },
      "id": "i9QfoivpZI10",
      "execution_count": null,
      "outputs": [
        {
          "output_type": "stream",
          "name": "stdout",
          "text": [
            "Mounted at /gdrive\n"
          ]
        }
      ]
    },
    {
      "cell_type": "code",
      "execution_count": null,
      "id": "26978ecf",
      "metadata": {
        "colab": {
          "base_uri": "https://localhost:8080/"
        },
        "id": "26978ecf",
        "outputId": "f6915906-889f-45f7-8d25-d060a3afc4a9"
      },
      "outputs": [
        {
          "output_type": "stream",
          "name": "stdout",
          "text": [
            "Requirement already satisfied: xgboost in /usr/local/lib/python3.10/dist-packages (2.0.3)\n",
            "Requirement already satisfied: numpy in /usr/local/lib/python3.10/dist-packages (from xgboost) (1.25.2)\n",
            "Requirement already satisfied: scipy in /usr/local/lib/python3.10/dist-packages (from xgboost) (1.11.4)\n"
          ]
        }
      ],
      "source": [
        "!pip install xgboost\n",
        "import pandas as pd\n",
        "from sklearn import metrics\n",
        "from sklearn.model_selection import train_test_split\n",
        "import xgboost as xgb\n",
        "from xgboost import XGBClassifier\n",
        "import matplotlib.pyplot as plt"
      ]
    },
    {
      "cell_type": "markdown",
      "id": "4fc6256a",
      "metadata": {
        "id": "4fc6256a"
      },
      "source": [
        "## input dataset"
      ]
    },
    {
      "cell_type": "code",
      "source": [
        "df = pd.read_csv('/gdrive/My Drive/Colab Notebooks/data_no_multicol_male.txt', delimiter='\\t')\n",
        "print(df.info())"
      ],
      "metadata": {
        "colab": {
          "base_uri": "https://localhost:8080/"
        },
        "id": "ddxtrLaxcChi",
        "outputId": "98d2cf71-58db-476e-e63f-f0e2526843b8"
      },
      "id": "ddxtrLaxcChi",
      "execution_count": null,
      "outputs": [
        {
          "output_type": "stream",
          "name": "stdout",
          "text": [
            "<class 'pandas.core.frame.DataFrame'>\n",
            "Int64Index: 102 entries, 7 to 461\n",
            "Columns: 297 entries, cluster_assignment_sub to A8d_.1.tell_professional\n",
            "dtypes: float64(141), int64(156)\n",
            "memory usage: 237.5 KB\n",
            "None\n"
          ]
        }
      ]
    },
    {
      "cell_type": "code",
      "execution_count": null,
      "id": "db4d2d01",
      "metadata": {
        "colab": {
          "base_uri": "https://localhost:8080/"
        },
        "id": "db4d2d01",
        "outputId": "868585f4-ae65-4874-c192-4a50d73670cb"
      },
      "outputs": [
        {
          "output_type": "stream",
          "name": "stdout",
          "text": [
            "<class 'pandas.core.frame.DataFrame'>\n",
            "Int64Index: 102 entries, 7 to 461\n",
            "Columns: 297 entries, cluster_assignment_sub to A8d_.1.tell_professional\n",
            "dtypes: float64(141), int64(156)\n",
            "memory usage: 237.5 KB\n",
            "None\n"
          ]
        }
      ],
      "source": [
        "df = pd.read_csv('/gdrive/My Drive/Colab Notebooks/data_no_multicol_male.txt', delimiter='\\t')\n",
        "data=df.iloc[:,1:297]\n",
        "target=df.iloc[:,0]\n",
        "target= target.replace(4,0)\n",
        "target= target.replace(5,1)\n",
        "print(df.info())"
      ]
    },
    {
      "cell_type": "code",
      "source": [
        "print(data.info())"
      ],
      "metadata": {
        "colab": {
          "base_uri": "https://localhost:8080/"
        },
        "id": "aNlLQGNOINVL",
        "outputId": "282196dd-bf1d-4837-a7a7-9c3205d4ed6a"
      },
      "id": "aNlLQGNOINVL",
      "execution_count": null,
      "outputs": [
        {
          "output_type": "stream",
          "name": "stdout",
          "text": [
            "<class 'pandas.core.frame.DataFrame'>\n",
            "Int64Index: 102 entries, 7 to 461\n",
            "Columns: 296 entries, MANIC_MOOD_EVER to A8d_.1.tell_professional\n",
            "dtypes: float64(141), int64(155)\n",
            "memory usage: 236.7 KB\n",
            "None\n"
          ]
        }
      ]
    },
    {
      "cell_type": "markdown",
      "id": "58430eff",
      "metadata": {
        "id": "58430eff"
      },
      "source": [
        "## xgboost"
      ]
    },
    {
      "cell_type": "code",
      "execution_count": null,
      "id": "c16cdec9",
      "metadata": {
        "id": "c16cdec9"
      },
      "outputs": [],
      "source": [
        "# Initialize an array to store feature importance for each iteration\n",
        "import numpy as np\n",
        "feature_importances = np.zeros((50, len(data.columns)))"
      ]
    },
    {
      "cell_type": "code",
      "execution_count": null,
      "id": "0beb9d96",
      "metadata": {
        "colab": {
          "base_uri": "https://localhost:8080/"
        },
        "id": "0beb9d96",
        "outputId": "a58b2c78-4dbc-43e5-8c83-bed43312d34e"
      },
      "outputs": [
        {
          "output_type": "stream",
          "name": "stdout",
          "text": [
            "Requirement already satisfied: eli5 in /usr/local/lib/python3.10/dist-packages (0.13.0)\n",
            "Requirement already satisfied: attrs>17.1.0 in /usr/local/lib/python3.10/dist-packages (from eli5) (23.2.0)\n",
            "Requirement already satisfied: jinja2>=3.0.0 in /usr/local/lib/python3.10/dist-packages (from eli5) (3.1.3)\n",
            "Requirement already satisfied: numpy>=1.9.0 in /usr/local/lib/python3.10/dist-packages (from eli5) (1.25.2)\n",
            "Requirement already satisfied: scipy in /usr/local/lib/python3.10/dist-packages (from eli5) (1.11.4)\n",
            "Requirement already satisfied: six in /usr/local/lib/python3.10/dist-packages (from eli5) (1.16.0)\n",
            "Requirement already satisfied: scikit-learn>=0.20 in /usr/local/lib/python3.10/dist-packages (from eli5) (1.2.2)\n",
            "Requirement already satisfied: graphviz in /usr/local/lib/python3.10/dist-packages (from eli5) (0.20.1)\n",
            "Requirement already satisfied: tabulate>=0.7.7 in /usr/local/lib/python3.10/dist-packages (from eli5) (0.9.0)\n",
            "Requirement already satisfied: MarkupSafe>=2.0 in /usr/local/lib/python3.10/dist-packages (from jinja2>=3.0.0->eli5) (2.1.5)\n",
            "Requirement already satisfied: joblib>=1.1.1 in /usr/local/lib/python3.10/dist-packages (from scikit-learn>=0.20->eli5) (1.3.2)\n",
            "Requirement already satisfied: threadpoolctl>=2.0.0 in /usr/local/lib/python3.10/dist-packages (from scikit-learn>=0.20->eli5) (3.3.0)\n"
          ]
        }
      ],
      "source": [
        "!pip install eli5\n",
        "import eli5\n",
        "from eli5.sklearn import PermutationImportance"
      ]
    },
    {
      "cell_type": "code",
      "execution_count": null,
      "id": "56e3e020",
      "metadata": {
        "colab": {
          "base_uri": "https://localhost:8080/"
        },
        "id": "56e3e020",
        "outputId": "5e2e5608-6ed1-4056-bad5-14ef76ec8f1f"
      },
      "outputs": [
        {
          "output_type": "stream",
          "name": "stdout",
          "text": [
            "[0]\tvalidation_0-auc:0.48980\n",
            "[1]\tvalidation_0-auc:0.64286\n",
            "[2]\tvalidation_0-auc:0.76020\n",
            "[3]\tvalidation_0-auc:0.83673\n",
            "[4]\tvalidation_0-auc:0.82653\n",
            "[5]\tvalidation_0-auc:0.79592\n",
            "[6]\tvalidation_0-auc:0.83673\n",
            "[7]\tvalidation_0-auc:0.81633\n",
            "[8]\tvalidation_0-auc:0.81633\n",
            "[0]\tvalidation_0-auc:0.83333\n",
            "[1]\tvalidation_0-auc:0.77778\n",
            "[2]\tvalidation_0-auc:0.74444\n",
            "[3]\tvalidation_0-auc:0.75000\n",
            "[4]\tvalidation_0-auc:0.78333\n",
            "[5]\tvalidation_0-auc:0.77222\n",
            "[0]\tvalidation_0-auc:0.63750\n",
            "[1]\tvalidation_0-auc:0.73125\n",
            "[2]\tvalidation_0-auc:0.77500\n",
            "[3]\tvalidation_0-auc:0.70000\n",
            "[4]\tvalidation_0-auc:0.72500\n",
            "[5]\tvalidation_0-auc:0.75000\n",
            "[6]\tvalidation_0-auc:0.72500\n",
            "[7]\tvalidation_0-auc:0.73750\n",
            "[0]\tvalidation_0-auc:0.56250\n",
            "[1]\tvalidation_0-auc:0.65625\n",
            "[2]\tvalidation_0-auc:0.76875\n",
            "[3]\tvalidation_0-auc:0.73125\n",
            "[4]\tvalidation_0-auc:0.78750\n",
            "[5]\tvalidation_0-auc:0.81250\n",
            "[6]\tvalidation_0-auc:0.78750\n",
            "[7]\tvalidation_0-auc:0.76250\n",
            "[8]\tvalidation_0-auc:0.75000\n",
            "[9]\tvalidation_0-auc:0.78750\n",
            "[0]\tvalidation_0-auc:0.77206\n",
            "[1]\tvalidation_0-auc:0.62500\n",
            "[2]\tvalidation_0-auc:0.61765\n",
            "[3]\tvalidation_0-auc:0.67647\n",
            "[4]\tvalidation_0-auc:0.67647\n",
            "[0]\tvalidation_0-auc:0.47778\n",
            "[1]\tvalidation_0-auc:0.45556\n",
            "[2]\tvalidation_0-auc:0.37778\n",
            "[3]\tvalidation_0-auc:0.41111\n",
            "[4]\tvalidation_0-auc:0.40556\n",
            "[0]\tvalidation_0-auc:0.49490\n",
            "[1]\tvalidation_0-auc:0.70408\n",
            "[2]\tvalidation_0-auc:0.62755\n",
            "[3]\tvalidation_0-auc:0.70408\n",
            "[4]\tvalidation_0-auc:0.68367\n",
            "[5]\tvalidation_0-auc:0.73469\n",
            "[6]\tvalidation_0-auc:0.71429\n",
            "[7]\tvalidation_0-auc:0.67347\n",
            "[8]\tvalidation_0-auc:0.65306\n",
            "[9]\tvalidation_0-auc:0.64286\n",
            "[10]\tvalidation_0-auc:0.63265\n",
            "[0]\tvalidation_0-auc:0.81122\n",
            "[1]\tvalidation_0-auc:0.92347\n",
            "[2]\tvalidation_0-auc:0.83673\n",
            "[3]\tvalidation_0-auc:0.84694\n",
            "[4]\tvalidation_0-auc:0.90816\n",
            "[5]\tvalidation_0-auc:0.91837\n",
            "[6]\tvalidation_0-auc:0.92857\n",
            "[7]\tvalidation_0-auc:0.91837\n",
            "[8]\tvalidation_0-auc:0.88776\n",
            "[9]\tvalidation_0-auc:0.86735\n",
            "[10]\tvalidation_0-auc:0.86735\n",
            "[11]\tvalidation_0-auc:0.86735\n",
            "[0]\tvalidation_0-auc:0.89423\n",
            "[1]\tvalidation_0-auc:0.98558\n",
            "[2]\tvalidation_0-auc:0.95192\n",
            "[3]\tvalidation_0-auc:0.94231\n",
            "[4]\tvalidation_0-auc:0.91346\n",
            "[5]\tvalidation_0-auc:0.94231\n",
            "[0]\tvalidation_0-auc:0.65000\n",
            "[1]\tvalidation_0-auc:0.75909\n",
            "[2]\tvalidation_0-auc:0.85455\n",
            "[3]\tvalidation_0-auc:0.78182\n",
            "[4]\tvalidation_0-auc:0.78636\n",
            "[5]\tvalidation_0-auc:0.77273\n",
            "[6]\tvalidation_0-auc:0.77273\n",
            "[0]\tvalidation_0-auc:0.50909\n",
            "[1]\tvalidation_0-auc:0.51364\n",
            "[2]\tvalidation_0-auc:0.55000\n",
            "[3]\tvalidation_0-auc:0.51364\n",
            "[4]\tvalidation_0-auc:0.52273\n",
            "[5]\tvalidation_0-auc:0.55000\n",
            "[6]\tvalidation_0-auc:0.55000\n",
            "[7]\tvalidation_0-auc:0.52273\n",
            "[0]\tvalidation_0-auc:0.43333\n",
            "[1]\tvalidation_0-auc:0.51111\n",
            "[2]\tvalidation_0-auc:0.63333\n",
            "[3]\tvalidation_0-auc:0.62222\n",
            "[4]\tvalidation_0-auc:0.65556\n",
            "[5]\tvalidation_0-auc:0.67778\n",
            "[6]\tvalidation_0-auc:0.67222\n",
            "[7]\tvalidation_0-auc:0.67778\n",
            "[8]\tvalidation_0-auc:0.71111\n",
            "[9]\tvalidation_0-auc:0.71111\n",
            "[10]\tvalidation_0-auc:0.71111\n",
            "[11]\tvalidation_0-auc:0.70000\n",
            "[12]\tvalidation_0-auc:0.68889\n",
            "[0]\tvalidation_0-auc:0.76471\n",
            "[1]\tvalidation_0-auc:0.77941\n",
            "[2]\tvalidation_0-auc:0.76471\n",
            "[3]\tvalidation_0-auc:0.82353\n",
            "[4]\tvalidation_0-auc:0.86765\n",
            "[5]\tvalidation_0-auc:0.88235\n",
            "[6]\tvalidation_0-auc:0.83824\n",
            "[7]\tvalidation_0-auc:0.88235\n",
            "[8]\tvalidation_0-auc:0.85294\n",
            "[9]\tvalidation_0-auc:0.83824\n",
            "[10]\tvalidation_0-auc:0.86765\n",
            "[0]\tvalidation_0-auc:0.67778\n",
            "[1]\tvalidation_0-auc:0.75000\n",
            "[2]\tvalidation_0-auc:0.83333\n",
            "[3]\tvalidation_0-auc:0.86111\n",
            "[4]\tvalidation_0-auc:0.87778\n",
            "[5]\tvalidation_0-auc:0.88889\n",
            "[6]\tvalidation_0-auc:0.88889\n",
            "[7]\tvalidation_0-auc:0.88889\n",
            "[8]\tvalidation_0-auc:0.88889\n",
            "[9]\tvalidation_0-auc:0.90000\n",
            "[10]\tvalidation_0-auc:0.90000\n",
            "[11]\tvalidation_0-auc:0.90000\n",
            "[12]\tvalidation_0-auc:0.90000\n",
            "[13]\tvalidation_0-auc:0.91111\n",
            "[14]\tvalidation_0-auc:0.88889\n",
            "[15]\tvalidation_0-auc:0.87778\n",
            "[16]\tvalidation_0-auc:0.86667\n",
            "[17]\tvalidation_0-auc:0.86667\n",
            "[18]\tvalidation_0-auc:0.87778\n",
            "[0]\tvalidation_0-auc:0.75926\n",
            "[1]\tvalidation_0-auc:0.78704\n",
            "[2]\tvalidation_0-auc:0.83333\n",
            "[3]\tvalidation_0-auc:0.82870\n",
            "[4]\tvalidation_0-auc:0.82870\n",
            "[5]\tvalidation_0-auc:0.87037\n",
            "[6]\tvalidation_0-auc:0.86111\n",
            "[7]\tvalidation_0-auc:0.84259\n",
            "[8]\tvalidation_0-auc:0.87037\n",
            "[9]\tvalidation_0-auc:0.86111\n",
            "[0]\tvalidation_0-auc:0.73182\n",
            "[1]\tvalidation_0-auc:0.90909\n",
            "[2]\tvalidation_0-auc:0.84545\n",
            "[3]\tvalidation_0-auc:0.85455\n",
            "[4]\tvalidation_0-auc:0.83636\n",
            "[5]\tvalidation_0-auc:0.86364\n",
            "[6]\tvalidation_0-auc:0.87273\n",
            "[0]\tvalidation_0-auc:0.55288\n",
            "[1]\tvalidation_0-auc:0.58173\n",
            "[2]\tvalidation_0-auc:0.59615\n",
            "[3]\tvalidation_0-auc:0.65385\n",
            "[4]\tvalidation_0-auc:0.60577\n",
            "[5]\tvalidation_0-auc:0.64423\n",
            "[6]\tvalidation_0-auc:0.69231\n",
            "[7]\tvalidation_0-auc:0.66346\n",
            "[8]\tvalidation_0-auc:0.64423\n",
            "[9]\tvalidation_0-auc:0.63462\n",
            "[10]\tvalidation_0-auc:0.60577\n",
            "[0]\tvalidation_0-auc:0.70000\n",
            "[1]\tvalidation_0-auc:0.78750\n",
            "[2]\tvalidation_0-auc:0.78125\n",
            "[3]\tvalidation_0-auc:0.77500\n",
            "[4]\tvalidation_0-auc:0.78750\n",
            "[5]\tvalidation_0-auc:0.86250\n",
            "[6]\tvalidation_0-auc:0.82500\n",
            "[7]\tvalidation_0-auc:0.82500\n",
            "[8]\tvalidation_0-auc:0.81250\n",
            "[9]\tvalidation_0-auc:0.78750\n",
            "[0]\tvalidation_0-auc:0.74444\n",
            "[1]\tvalidation_0-auc:0.83889\n",
            "[2]\tvalidation_0-auc:0.87222\n",
            "[3]\tvalidation_0-auc:0.94444\n",
            "[4]\tvalidation_0-auc:0.91111\n",
            "[5]\tvalidation_0-auc:0.86667\n",
            "[6]\tvalidation_0-auc:0.86667\n",
            "[7]\tvalidation_0-auc:0.86667\n",
            "[0]\tvalidation_0-auc:0.35714\n",
            "[1]\tvalidation_0-auc:0.50000\n",
            "[2]\tvalidation_0-auc:0.59184\n",
            "[3]\tvalidation_0-auc:0.66837\n",
            "[4]\tvalidation_0-auc:0.66327\n",
            "[5]\tvalidation_0-auc:0.63265\n",
            "[6]\tvalidation_0-auc:0.68367\n",
            "[7]\tvalidation_0-auc:0.67347\n",
            "[8]\tvalidation_0-auc:0.62245\n",
            "[9]\tvalidation_0-auc:0.66327\n",
            "[10]\tvalidation_0-auc:0.65306\n",
            "[11]\tvalidation_0-auc:0.66327\n",
            "[0]\tvalidation_0-auc:0.43333\n",
            "[1]\tvalidation_0-auc:0.48333\n",
            "[2]\tvalidation_0-auc:0.62222\n",
            "[3]\tvalidation_0-auc:0.57778\n",
            "[4]\tvalidation_0-auc:0.57778\n",
            "[5]\tvalidation_0-auc:0.58889\n",
            "[6]\tvalidation_0-auc:0.57778\n",
            "[7]\tvalidation_0-auc:0.60000\n",
            "[0]\tvalidation_0-auc:0.57653\n",
            "[1]\tvalidation_0-auc:0.76531\n",
            "[2]\tvalidation_0-auc:0.71939\n",
            "[3]\tvalidation_0-auc:0.61224\n",
            "[4]\tvalidation_0-auc:0.61224\n",
            "[5]\tvalidation_0-auc:0.65306\n",
            "[0]\tvalidation_0-auc:0.54082\n",
            "[1]\tvalidation_0-auc:0.73980\n",
            "[2]\tvalidation_0-auc:0.75510\n",
            "[3]\tvalidation_0-auc:0.69388\n",
            "[4]\tvalidation_0-auc:0.69388\n",
            "[5]\tvalidation_0-auc:0.72449\n",
            "[6]\tvalidation_0-auc:0.70408\n",
            "[0]\tvalidation_0-auc:0.66204\n",
            "[1]\tvalidation_0-auc:0.62500\n",
            "[2]\tvalidation_0-auc:0.72222\n",
            "[3]\tvalidation_0-auc:0.80556\n",
            "[4]\tvalidation_0-auc:0.80556\n",
            "[5]\tvalidation_0-auc:0.80556\n",
            "[6]\tvalidation_0-auc:0.77778\n",
            "[7]\tvalidation_0-auc:0.75000\n",
            "[0]\tvalidation_0-auc:0.76111\n",
            "[1]\tvalidation_0-auc:0.67778\n",
            "[2]\tvalidation_0-auc:0.71667\n",
            "[3]\tvalidation_0-auc:0.80000\n",
            "[4]\tvalidation_0-auc:0.80000\n",
            "[5]\tvalidation_0-auc:0.83333\n",
            "[6]\tvalidation_0-auc:0.84444\n",
            "[7]\tvalidation_0-auc:0.82222\n",
            "[8]\tvalidation_0-auc:0.80000\n",
            "[9]\tvalidation_0-auc:0.76667\n",
            "[10]\tvalidation_0-auc:0.77778\n",
            "[0]\tvalidation_0-auc:0.50481\n",
            "[1]\tvalidation_0-auc:0.65865\n",
            "[2]\tvalidation_0-auc:0.62981\n",
            "[3]\tvalidation_0-auc:0.61058\n",
            "[4]\tvalidation_0-auc:0.61538\n",
            "[5]\tvalidation_0-auc:0.67308\n",
            "[6]\tvalidation_0-auc:0.73077\n",
            "[7]\tvalidation_0-auc:0.72115\n",
            "[8]\tvalidation_0-auc:0.74038\n",
            "[9]\tvalidation_0-auc:0.75000\n",
            "[10]\tvalidation_0-auc:0.77885\n",
            "[11]\tvalidation_0-auc:0.78846\n",
            "[12]\tvalidation_0-auc:0.79808\n",
            "[13]\tvalidation_0-auc:0.78846\n",
            "[14]\tvalidation_0-auc:0.77885\n",
            "[15]\tvalidation_0-auc:0.78846\n",
            "[16]\tvalidation_0-auc:0.76923\n",
            "[17]\tvalidation_0-auc:0.75962\n",
            "[0]\tvalidation_0-auc:0.88750\n",
            "[1]\tvalidation_0-auc:0.91250\n",
            "[2]\tvalidation_0-auc:0.90000\n",
            "[3]\tvalidation_0-auc:0.85625\n",
            "[4]\tvalidation_0-auc:0.86250\n",
            "[5]\tvalidation_0-auc:0.86250\n",
            "[0]\tvalidation_0-auc:0.40000\n",
            "[1]\tvalidation_0-auc:0.78750\n",
            "[2]\tvalidation_0-auc:0.73125\n",
            "[3]\tvalidation_0-auc:0.78125\n",
            "[4]\tvalidation_0-auc:0.73750\n",
            "[5]\tvalidation_0-auc:0.78750\n",
            "[0]\tvalidation_0-auc:0.88125\n",
            "[1]\tvalidation_0-auc:0.85625\n",
            "[2]\tvalidation_0-auc:0.83125\n",
            "[3]\tvalidation_0-auc:0.78750\n",
            "[4]\tvalidation_0-auc:0.86250\n",
            "[0]\tvalidation_0-auc:0.72115\n",
            "[1]\tvalidation_0-auc:0.87019\n",
            "[2]\tvalidation_0-auc:0.87019\n",
            "[3]\tvalidation_0-auc:0.90385\n",
            "[4]\tvalidation_0-auc:0.88462\n",
            "[5]\tvalidation_0-auc:0.82692\n",
            "[6]\tvalidation_0-auc:0.84615\n",
            "[7]\tvalidation_0-auc:0.88462\n",
            "[0]\tvalidation_0-auc:0.64352\n",
            "[1]\tvalidation_0-auc:0.66204\n",
            "[2]\tvalidation_0-auc:0.72685\n",
            "[3]\tvalidation_0-auc:0.72222\n",
            "[4]\tvalidation_0-auc:0.74074\n",
            "[5]\tvalidation_0-auc:0.73148\n",
            "[6]\tvalidation_0-auc:0.74074\n",
            "[7]\tvalidation_0-auc:0.74074\n",
            "[8]\tvalidation_0-auc:0.73148\n",
            "[0]\tvalidation_0-auc:0.56731\n",
            "[1]\tvalidation_0-auc:0.52885\n",
            "[2]\tvalidation_0-auc:0.65865\n",
            "[3]\tvalidation_0-auc:0.61538\n",
            "[4]\tvalidation_0-auc:0.63462\n",
            "[5]\tvalidation_0-auc:0.60577\n",
            "[6]\tvalidation_0-auc:0.64423\n",
            "[7]\tvalidation_0-auc:0.66346\n",
            "[8]\tvalidation_0-auc:0.68269\n",
            "[9]\tvalidation_0-auc:0.64423\n",
            "[10]\tvalidation_0-auc:0.65385\n",
            "[11]\tvalidation_0-auc:0.63462\n",
            "[12]\tvalidation_0-auc:0.63462\n",
            "[0]\tvalidation_0-auc:0.61875\n",
            "[1]\tvalidation_0-auc:0.61875\n",
            "[2]\tvalidation_0-auc:0.71250\n",
            "[3]\tvalidation_0-auc:0.67500\n",
            "[4]\tvalidation_0-auc:0.71250\n",
            "[5]\tvalidation_0-auc:0.73750\n",
            "[6]\tvalidation_0-auc:0.77500\n",
            "[7]\tvalidation_0-auc:0.77500\n",
            "[8]\tvalidation_0-auc:0.76250\n",
            "[9]\tvalidation_0-auc:0.75000\n",
            "[10]\tvalidation_0-auc:0.73750\n",
            "[0]\tvalidation_0-auc:0.55102\n",
            "[1]\tvalidation_0-auc:0.66837\n",
            "[2]\tvalidation_0-auc:0.65816\n",
            "[3]\tvalidation_0-auc:0.68367\n",
            "[4]\tvalidation_0-auc:0.65816\n",
            "[5]\tvalidation_0-auc:0.65306\n",
            "[6]\tvalidation_0-auc:0.63265\n",
            "[7]\tvalidation_0-auc:0.64286\n",
            "[0]\tvalidation_0-auc:0.61875\n",
            "[1]\tvalidation_0-auc:0.91250\n",
            "[2]\tvalidation_0-auc:0.91250\n",
            "[3]\tvalidation_0-auc:0.86250\n",
            "[4]\tvalidation_0-auc:0.87500\n",
            "[5]\tvalidation_0-auc:0.85000\n",
            "[6]\tvalidation_0-auc:0.85000\n",
            "[0]\tvalidation_0-auc:0.53571\n",
            "[1]\tvalidation_0-auc:0.63776\n",
            "[2]\tvalidation_0-auc:0.78061\n",
            "[3]\tvalidation_0-auc:0.75000\n",
            "[4]\tvalidation_0-auc:0.82653\n",
            "[5]\tvalidation_0-auc:0.83673\n",
            "[6]\tvalidation_0-auc:0.82653\n",
            "[7]\tvalidation_0-auc:0.85714\n",
            "[8]\tvalidation_0-auc:0.84694\n",
            "[9]\tvalidation_0-auc:0.79592\n",
            "[10]\tvalidation_0-auc:0.79592\n",
            "[11]\tvalidation_0-auc:0.78571\n",
            "[12]\tvalidation_0-auc:0.80612\n",
            "[0]\tvalidation_0-auc:0.65741\n",
            "[1]\tvalidation_0-auc:0.70370\n",
            "[2]\tvalidation_0-auc:0.69444\n",
            "[3]\tvalidation_0-auc:0.67593\n",
            "[4]\tvalidation_0-auc:0.64815\n",
            "[5]\tvalidation_0-auc:0.65741\n",
            "[6]\tvalidation_0-auc:0.66667\n",
            "[0]\tvalidation_0-auc:0.86224\n",
            "[1]\tvalidation_0-auc:0.93878\n",
            "[2]\tvalidation_0-auc:0.94898\n",
            "[3]\tvalidation_0-auc:0.93878\n",
            "[4]\tvalidation_0-auc:0.91837\n",
            "[5]\tvalidation_0-auc:0.89796\n",
            "[6]\tvalidation_0-auc:0.91837\n",
            "[0]\tvalidation_0-auc:0.82212\n",
            "[1]\tvalidation_0-auc:0.80288\n",
            "[2]\tvalidation_0-auc:0.82692\n",
            "[3]\tvalidation_0-auc:0.84135\n",
            "[4]\tvalidation_0-auc:0.83173\n",
            "[5]\tvalidation_0-auc:0.76442\n",
            "[6]\tvalidation_0-auc:0.78365\n",
            "[7]\tvalidation_0-auc:0.80769\n",
            "[8]\tvalidation_0-auc:0.79808\n",
            "[0]\tvalidation_0-auc:0.59184\n",
            "[1]\tvalidation_0-auc:0.60714\n",
            "[2]\tvalidation_0-auc:0.62245\n",
            "[3]\tvalidation_0-auc:0.67857\n",
            "[4]\tvalidation_0-auc:0.58163\n",
            "[5]\tvalidation_0-auc:0.53061\n",
            "[6]\tvalidation_0-auc:0.47959\n",
            "[7]\tvalidation_0-auc:0.54082\n",
            "[0]\tvalidation_0-auc:0.96324\n",
            "[1]\tvalidation_0-auc:0.89706\n",
            "[2]\tvalidation_0-auc:0.94118\n",
            "[3]\tvalidation_0-auc:0.92647\n",
            "[4]\tvalidation_0-auc:0.89706\n",
            "[5]\tvalidation_0-auc:0.88235\n",
            "[0]\tvalidation_0-auc:0.32407\n",
            "[1]\tvalidation_0-auc:0.55556\n",
            "[2]\tvalidation_0-auc:0.70370\n",
            "[3]\tvalidation_0-auc:0.61111\n",
            "[4]\tvalidation_0-auc:0.61111\n",
            "[5]\tvalidation_0-auc:0.61111\n",
            "[6]\tvalidation_0-auc:0.57407\n",
            "[0]\tvalidation_0-auc:0.62222\n",
            "[1]\tvalidation_0-auc:0.50556\n",
            "[2]\tvalidation_0-auc:0.49444\n",
            "[3]\tvalidation_0-auc:0.51667\n",
            "[4]\tvalidation_0-auc:0.57778\n",
            "[5]\tvalidation_0-auc:0.60000\n",
            "[0]\tvalidation_0-auc:0.89286\n",
            "[1]\tvalidation_0-auc:0.78061\n",
            "[2]\tvalidation_0-auc:0.74490\n",
            "[3]\tvalidation_0-auc:0.72959\n",
            "[4]\tvalidation_0-auc:0.72959\n",
            "[5]\tvalidation_0-auc:0.72959\n",
            "[0]\tvalidation_0-auc:0.68125\n",
            "[1]\tvalidation_0-auc:0.95000\n",
            "[2]\tvalidation_0-auc:0.96250\n",
            "[3]\tvalidation_0-auc:0.93750\n",
            "[4]\tvalidation_0-auc:0.88750\n",
            "[5]\tvalidation_0-auc:0.87500\n",
            "[6]\tvalidation_0-auc:0.86250\n",
            "[7]\tvalidation_0-auc:0.86250\n",
            "[0]\tvalidation_0-auc:0.63942\n",
            "[1]\tvalidation_0-auc:0.75962\n",
            "[2]\tvalidation_0-auc:0.75000\n",
            "[3]\tvalidation_0-auc:0.67308\n",
            "[4]\tvalidation_0-auc:0.68269\n",
            "[5]\tvalidation_0-auc:0.67308\n",
            "[0]\tvalidation_0-auc:0.79592\n",
            "[1]\tvalidation_0-auc:0.80102\n",
            "[2]\tvalidation_0-auc:0.79082\n",
            "[3]\tvalidation_0-auc:0.80612\n",
            "[4]\tvalidation_0-auc:0.74490\n",
            "[5]\tvalidation_0-auc:0.76020\n",
            "[6]\tvalidation_0-auc:0.73980\n",
            "[7]\tvalidation_0-auc:0.76531\n",
            "[0]\tvalidation_0-auc:0.66837\n",
            "[1]\tvalidation_0-auc:0.64796\n",
            "[2]\tvalidation_0-auc:0.76020\n",
            "[3]\tvalidation_0-auc:0.86735\n",
            "[4]\tvalidation_0-auc:0.86735\n",
            "[5]\tvalidation_0-auc:0.91837\n",
            "[6]\tvalidation_0-auc:0.91837\n",
            "[7]\tvalidation_0-auc:0.91837\n",
            "[8]\tvalidation_0-auc:0.89796\n",
            "[9]\tvalidation_0-auc:0.88776\n",
            "[10]\tvalidation_0-auc:0.88776\n",
            "[0]\tvalidation_0-auc:0.68878\n",
            "[1]\tvalidation_0-auc:0.76020\n",
            "[2]\tvalidation_0-auc:0.78571\n",
            "[3]\tvalidation_0-auc:0.76020\n",
            "[4]\tvalidation_0-auc:0.81122\n",
            "[5]\tvalidation_0-auc:0.79082\n",
            "[6]\tvalidation_0-auc:0.77551\n",
            "[7]\tvalidation_0-auc:0.71429\n",
            "[8]\tvalidation_0-auc:0.72449\n",
            "[9]\tvalidation_0-auc:0.69388\n",
            "[0]\tvalidation_0-auc:0.73750\n",
            "[1]\tvalidation_0-auc:0.71875\n",
            "[2]\tvalidation_0-auc:0.63125\n",
            "[3]\tvalidation_0-auc:0.52500\n",
            "[4]\tvalidation_0-auc:0.53750\n"
          ]
        }
      ],
      "source": [
        "# repeat 50 times\n",
        "for i in range(50):\n",
        "    train_x, test_x, train_y, test_y = train_test_split(data,target,test_size=0.2,random_state=(i*i+5))\n",
        "    model = XGBClassifier(\n",
        "        n_estimators=25,\n",
        "        max_depth=5,\n",
        "        learning_rate= 1,\n",
        "        subsample=0.75,\n",
        "        colsample_bytree=0.75,\n",
        "        reg_lambda=10,\n",
        "        eval_metric='auc',\n",
        "        early_stopping_rounds=5,\n",
        "        random_state=i\n",
        "    )\n",
        "    model.fit(train_x, train_y, eval_set=[(test_x, test_y)])\n",
        "    #perm = PermutationImportance(model, random_state=101).fit(test_x, test_y)\n",
        "    feature_importances[i, :] = model.feature_importances_"
      ]
    },
    {
      "cell_type": "markdown",
      "id": "f411065d",
      "metadata": {
        "id": "f411065d"
      },
      "source": [
        "## permutation importance"
      ]
    },
    {
      "cell_type": "markdown",
      "id": "4796e572",
      "metadata": {
        "id": "4796e572"
      },
      "source": [
        "# #result"
      ]
    },
    {
      "cell_type": "code",
      "execution_count": null,
      "id": "4f9ce1fb",
      "metadata": {
        "colab": {
          "base_uri": "https://localhost:8080/"
        },
        "id": "4f9ce1fb",
        "outputId": "e47ee682-3cf6-4a3e-9138-6d452d84bb9c"
      },
      "outputs": [
        {
          "output_type": "stream",
          "name": "stdout",
          "text": [
            "Feature: HALLUC_LEVEL, Importance: 0.01910618045250885\n",
            "Feature: Factor.4., Importance: 0.01999983191024512\n",
            "Feature: Emot_Abuse, Importance: 0.021288315318524837\n",
            "Feature: Bmi_Current, Importance: 0.021533713799435646\n",
            "Feature: Alc_Dependence, Importance: 0.03523001654073596\n",
            "Feature: Ppwork_12work_37not, Importance: 0.05056708674877882\n",
            "Feature: Neglect, Importance: 0.05344852177426219\n",
            "Feature: ALCOHOL_PROBLEM, Importance: 0.057019864171743394\n",
            "Feature: STIM_LEVEL, Importance: 0.0622990248631686\n",
            "Feature: PHQ_7, Importance: 0.1140346285328269\n"
          ]
        }
      ],
      "source": [
        "# Calculate average feature importance\n",
        "average_importances = np.mean(feature_importances, axis=0)\n",
        "\n",
        "# Sort and get the index of the top 5 features\n",
        "top_10_feature_indices = np.argsort(average_importances)[-10:]\n",
        "\n",
        "# Get and print the top 5 most important feature names and their average importance\n",
        "top_features = data.columns[top_10_feature_indices]\n",
        "for feature, importance in zip(top_features, average_importances[top_10_feature_indices]):\n",
        "    print(f\"Feature: {feature}, Importance: {importance}\")"
      ]
    },
    {
      "cell_type": "code",
      "execution_count": null,
      "id": "ee5ea5b1",
      "metadata": {
        "id": "ee5ea5b1"
      },
      "outputs": [],
      "source": []
    }
  ],
  "metadata": {
    "kernelspec": {
      "display_name": "Python 3 (ipykernel)",
      "language": "python",
      "name": "python3"
    },
    "language_info": {
      "codemirror_mode": {
        "name": "ipython",
        "version": 3
      },
      "file_extension": ".py",
      "mimetype": "text/x-python",
      "name": "python",
      "nbconvert_exporter": "python",
      "pygments_lexer": "ipython3",
      "version": "3.9.13"
    },
    "colab": {
      "provenance": []
    }
  },
  "nbformat": 4,
  "nbformat_minor": 5
}