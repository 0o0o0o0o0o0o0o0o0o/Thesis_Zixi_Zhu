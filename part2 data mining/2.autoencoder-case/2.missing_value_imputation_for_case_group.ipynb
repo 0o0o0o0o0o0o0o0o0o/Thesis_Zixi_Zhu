{
  "nbformat": 4,
  "nbformat_minor": 0,
  "metadata": {
    "colab": {
      "provenance": []
    },
    "kernelspec": {
      "name": "python3",
      "display_name": "Python 3"
    },
    "language_info": {
      "name": "python"
    }
  },
  "cells": [
    {
      "cell_type": "code",
      "execution_count": null,
      "metadata": {
        "colab": {
          "base_uri": "https://localhost:8080/"
        },
        "id": "rXIm-ss8Oe_S",
        "outputId": "41b09e53-c170-4eae-db5c-2ba33cc2632b"
      },
      "outputs": [
        {
          "output_type": "stream",
          "name": "stdout",
          "text": [
            "Mounted at /gdrive\n"
          ]
        }
      ],
      "source": [
        "from google.colab import drive\n",
        "drive.mount('/gdrive', force_remount=True)"
      ]
    },
    {
      "cell_type": "code",
      "source": [
        "import pandas as pd\n",
        "import numpy as np\n",
        "from sklearn.preprocessing import MinMaxScaler\n",
        "import torch\n",
        "import torch.nn as nn\n",
        "import torch.optim as optim\n",
        "from torch.utils.data import DataLoader, TensorDataset"
      ],
      "metadata": {
        "id": "MJBDtqWEfQcp"
      },
      "execution_count": null,
      "outputs": []
    },
    {
      "cell_type": "code",
      "source": [
        "#import data\n",
        "dir = \"/gdrive/My Drive/Colab Notebooks\"\n",
        "df = pd.read_csv('/gdrive/My Drive/Colab Notebooks/cutoff_case_prepare.txt', delimiter='\\t')\n",
        "print(df.head())\n",
        "print(df.info())"
      ],
      "metadata": {
        "colab": {
          "base_uri": "https://localhost:8080/"
        },
        "id": "kduYOnWqfSfB",
        "outputId": "9ad6c4c9-d1c2-453e-b23a-69e53552cc44"
      },
      "execution_count": null,
      "outputs": [
        {
          "output_type": "stream",
          "name": "stdout",
          "text": [
            "   gender  SITE  CHILDREN  INPT_TX_EVER  OUTPT_TX_EVER  OTHER_TX_EVER  \\\n",
            "0       0     0         1             0              1            1.0   \n",
            "1       0     0         0             1              1            0.0   \n",
            "2       0     1         1             0              1            0.0   \n",
            "3       0     1         0             0              1            0.0   \n",
            "4       0     1         0             0              1            0.0   \n",
            "\n",
            "   CURRENT_MH_TX  ALCOHOL_TX  SUBST_TX  CURRENT_ALCOHOL_TX  ...  Factor.1.  \\\n",
            "0              1           0         0                   0  ...   0.013619   \n",
            "1              1           0         1                   0  ...   0.050918   \n",
            "2              0           0         0                   0  ...   0.015873   \n",
            "3              0           0         0                   0  ...  -0.003685   \n",
            "4              1           0         0                   0  ...   0.036937   \n",
            "\n",
            "   Factor.2.  Factor.3.  Factor.4.  Factor.5.  Yrsincedep  \\\n",
            "0  -0.008851  -0.009791  -0.001520   0.011540           1   \n",
            "1  -0.020381  -0.119638   0.156657  -0.009240           0   \n",
            "2   0.042207   0.015362  -0.038826   0.013978           5   \n",
            "3   0.041120   0.026992  -0.004125  -0.000307           2   \n",
            "4   0.045227  -0.066903   0.081161   0.071129           0   \n",
            "\n",
            "   A8_duration_worst_weeks...2...52..  A8a_episodes...2.  A8b_AAO  \\\n",
            "0                                  24                  2       34   \n",
            "1                                1200                600       11   \n",
            "2                                   4                  3       15   \n",
            "3                                  12                  3       17   \n",
            "4                                  52                  3       26   \n",
            "\n",
            "   A8c_RecentAge  \n",
            "0             58  \n",
            "1             39  \n",
            "2             35  \n",
            "3             22  \n",
            "4             42  \n",
            "\n",
            "[5 rows x 499 columns]\n",
            "<class 'pandas.core.frame.DataFrame'>\n",
            "RangeIndex: 188 entries, 0 to 187\n",
            "Columns: 499 entries, gender to A8c_RecentAge\n",
            "dtypes: float64(191), int64(308)\n",
            "memory usage: 733.0 KB\n",
            "None\n"
          ]
        }
      ]
    },
    {
      "cell_type": "code",
      "source": [
        "#normalization\n",
        "scaler = MinMaxScaler()\n",
        "normalized_data = scaler.fit_transform(df)\n",
        "normalized_dataframe = pd.DataFrame(normalized_data, columns=df.columns)\n",
        "print(normalized_dataframe.head())"
      ],
      "metadata": {
        "colab": {
          "base_uri": "https://localhost:8080/"
        },
        "id": "xI7PIsICfh9O",
        "outputId": "0422b649-edc4-49db-c7e0-dbbf4974c5b7"
      },
      "execution_count": null,
      "outputs": [
        {
          "output_type": "stream",
          "name": "stdout",
          "text": [
            "   gender  SITE  CHILDREN  INPT_TX_EVER  OUTPT_TX_EVER  OTHER_TX_EVER  \\\n",
            "0     0.0   0.0       1.0           0.0            1.0            1.0   \n",
            "1     0.0   0.0       0.0           1.0            1.0            0.0   \n",
            "2     0.0   1.0       1.0           0.0            1.0            0.0   \n",
            "3     0.0   1.0       0.0           0.0            1.0            0.0   \n",
            "4     0.0   1.0       0.0           0.0            1.0            0.0   \n",
            "\n",
            "   CURRENT_MH_TX  ALCOHOL_TX  SUBST_TX  CURRENT_ALCOHOL_TX  ...  Factor.1.  \\\n",
            "0            1.0         0.0       0.0                 0.0  ...   0.439127   \n",
            "1            1.0         0.0       1.0                 0.0  ...   0.589726   \n",
            "2            0.0         0.0       0.0                 0.0  ...   0.448228   \n",
            "3            0.0         0.0       0.0                 0.0  ...   0.369260   \n",
            "4            1.0         0.0       0.0                 0.0  ...   0.533276   \n",
            "\n",
            "   Factor.2.  Factor.3.  Factor.4.  Factor.5.  Yrsincedep  \\\n",
            "0   0.689603   0.572179   0.407575   0.462007    0.047619   \n",
            "1   0.635203   0.142362   1.000000   0.364989    0.000000   \n",
            "2   0.930506   0.670599   0.267851   0.473390    0.238095   \n",
            "3   0.925377   0.716106   0.397818   0.406696    0.095238   \n",
            "4   0.944755   0.348707   0.717242   0.740218    0.000000   \n",
            "\n",
            "   A8_duration_worst_weeks...2...52..  A8a_episodes...2.   A8b_AAO  \\\n",
            "0                            0.018364           0.001002  0.615385   \n",
            "1                            1.000000           0.600200  0.173077   \n",
            "2                            0.001669           0.002004  0.250000   \n",
            "3                            0.008347           0.002004  0.288462   \n",
            "4                            0.041736           0.002004  0.461538   \n",
            "\n",
            "   A8c_RecentAge  \n",
            "0       0.964912  \n",
            "1       0.631579  \n",
            "2       0.561404  \n",
            "3       0.333333  \n",
            "4       0.684211  \n",
            "\n",
            "[5 rows x 499 columns]\n"
          ]
        }
      ]
    },
    {
      "cell_type": "code",
      "source": [
        "#mask out 20 percentages of entries from the complete dataset\n",
        "val_dataframe = normalized_dataframe.copy()\n",
        "# Calculate the average of each column\n",
        "#column_means = val_dataframe.mean()\n",
        "\n",
        "# Create a new data frame to mark modifications\n",
        "mask = pd.DataFrame(1, index=val_dataframe.index, columns=val_dataframe.columns)\n",
        "\n",
        "# Operate on each column\n",
        "for column in val_dataframe.columns:\n",
        "    # Determine the number of rows to replace\n",
        "    num_rows = val_dataframe.shape[0]\n",
        "    num_to_replace = int(num_rows * 0.20)  # 20% 的行\n",
        "\n",
        "    # Randomly select rows\n",
        "    rows_to_replace = np.random.choice(num_rows, num_to_replace, replace=False)\n",
        "\n",
        "    # Replace the value of the selected row with 0\n",
        "    val_dataframe.loc[rows_to_replace, column] = 0\n",
        "\n",
        "    # Set the value of the corresponding position in the mask data frame to 0\n",
        "    mask.loc[rows_to_replace, column] = 0\n",
        "\n",
        "#mask = mask.astype(float)\n",
        "print(val_dataframe.head())\n",
        "print(mask.head())\n",
        "mask_re = mask.copy()\n",
        "val_re = val_dataframe.copy()"
      ],
      "metadata": {
        "colab": {
          "base_uri": "https://localhost:8080/"
        },
        "id": "B-Fw9sbPfklx",
        "outputId": "19d77da8-4359-4624-86f2-4d10c8ff1938"
      },
      "execution_count": null,
      "outputs": [
        {
          "output_type": "stream",
          "name": "stdout",
          "text": [
            "   gender  SITE  CHILDREN  INPT_TX_EVER  OUTPT_TX_EVER  OTHER_TX_EVER  \\\n",
            "0     0.0   0.0       1.0           0.0            1.0            1.0   \n",
            "1     0.0   0.0       0.0           1.0            1.0            0.0   \n",
            "2     0.0   1.0       1.0           0.0            1.0            0.0   \n",
            "3     0.0   1.0       0.0           0.0            1.0            0.0   \n",
            "4     0.0   1.0       0.0           0.0            1.0            0.0   \n",
            "\n",
            "   CURRENT_MH_TX  ALCOHOL_TX  SUBST_TX  CURRENT_ALCOHOL_TX  ...  Factor.1.  \\\n",
            "0            1.0         0.0       0.0                 0.0  ...   0.000000   \n",
            "1            1.0         0.0       1.0                 0.0  ...   0.000000   \n",
            "2            0.0         0.0       0.0                 0.0  ...   0.000000   \n",
            "3            0.0         0.0       0.0                 0.0  ...   0.369260   \n",
            "4            1.0         0.0       0.0                 0.0  ...   0.533276   \n",
            "\n",
            "   Factor.2.  Factor.3.  Factor.4.  Factor.5.  Yrsincedep  \\\n",
            "0   0.689603   0.572179   0.407575   0.000000    0.047619   \n",
            "1   0.000000   0.142362   1.000000   0.364989    0.000000   \n",
            "2   0.930506   0.670599   0.267851   0.473390    0.238095   \n",
            "3   0.925377   0.716106   0.397818   0.000000    0.095238   \n",
            "4   0.944755   0.348707   0.717242   0.740218    0.000000   \n",
            "\n",
            "   A8_duration_worst_weeks...2...52..  A8a_episodes...2.   A8b_AAO  \\\n",
            "0                            0.018364           0.000000  0.615385   \n",
            "1                            1.000000           0.600200  0.173077   \n",
            "2                            0.001669           0.002004  0.250000   \n",
            "3                            0.000000           0.002004  0.000000   \n",
            "4                            0.041736           0.002004  0.461538   \n",
            "\n",
            "   A8c_RecentAge  \n",
            "0       0.964912  \n",
            "1       0.631579  \n",
            "2       0.561404  \n",
            "3       0.333333  \n",
            "4       0.000000  \n",
            "\n",
            "[5 rows x 499 columns]\n",
            "   gender  SITE  CHILDREN  INPT_TX_EVER  OUTPT_TX_EVER  OTHER_TX_EVER  \\\n",
            "0       1     1         1             1              1              1   \n",
            "1       1     1         0             1              1              1   \n",
            "2       1     1         1             0              1              0   \n",
            "3       0     1         0             1              1              1   \n",
            "4       1     1         1             0              1              1   \n",
            "\n",
            "   CURRENT_MH_TX  ALCOHOL_TX  SUBST_TX  CURRENT_ALCOHOL_TX  ...  Factor.1.  \\\n",
            "0              1           1         1                   1  ...          0   \n",
            "1              1           1         1                   1  ...          0   \n",
            "2              1           1         1                   1  ...          0   \n",
            "3              1           0         1                   1  ...          1   \n",
            "4              1           1         1                   1  ...          1   \n",
            "\n",
            "   Factor.2.  Factor.3.  Factor.4.  Factor.5.  Yrsincedep  \\\n",
            "0          1          1          1          0           1   \n",
            "1          0          1          1          1           1   \n",
            "2          1          1          1          1           1   \n",
            "3          1          1          1          0           1   \n",
            "4          1          1          1          1           1   \n",
            "\n",
            "   A8_duration_worst_weeks...2...52..  A8a_episodes...2.  A8b_AAO  \\\n",
            "0                                   1                  0        1   \n",
            "1                                   1                  1        1   \n",
            "2                                   1                  1        1   \n",
            "3                                   0                  1        0   \n",
            "4                                   1                  1        1   \n",
            "\n",
            "   A8c_RecentAge  \n",
            "0              1  \n",
            "1              1  \n",
            "2              1  \n",
            "3              1  \n",
            "4              0  \n",
            "\n",
            "[5 rows x 499 columns]\n"
          ]
        }
      ]
    },
    {
      "cell_type": "code",
      "source": [
        "#set auto_enconder\n",
        "class HadamardAutoencoder(nn.Module):\n",
        "    def __init__(self):\n",
        "        super(HadamardAutoencoder, self).__init__()\n",
        "        # Encoder part\n",
        "        self.encoder = nn.Sequential(\n",
        "            nn.Linear(in_features=499, out_features=128),\n",
        "            nn.ReLU(),\n",
        "            nn.Linear(128, 64)\n",
        "        )\n",
        "        # Decoder part\n",
        "        self.decoder = nn.Sequential(\n",
        "            nn.Linear(64, 128),\n",
        "            nn.ReLU(),\n",
        "            nn.Linear(128, 499),\n",
        "            nn.Sigmoid()\n",
        "        )\n",
        "\n",
        "    def forward(self, x):\n",
        "        x = self.encoder(x)\n",
        "        x = self.decoder(x)\n",
        "        return x\n",
        "\n",
        "    # Add a method to get the encoding\n",
        "    def encode(self, x):\n",
        "        return self.encoder(x)\n"
      ],
      "metadata": {
        "id": "ffEeo0ehobv5"
      },
      "execution_count": null,
      "outputs": []
    },
    {
      "cell_type": "code",
      "source": [
        "# use gpu for training if available\n",
        "device = torch.device(\"cuda\" if torch.cuda.is_available() else \"cpu\")\n",
        "print(device)"
      ],
      "metadata": {
        "colab": {
          "base_uri": "https://localhost:8080/"
        },
        "id": "DfKi4XFkogYF",
        "outputId": "90bedc5f-adae-4ed0-cb0b-892c4f108fd4"
      },
      "execution_count": null,
      "outputs": [
        {
          "output_type": "stream",
          "name": "stdout",
          "text": [
            "cpu\n"
          ]
        }
      ]
    },
    {
      "cell_type": "code",
      "source": [
        "# instantiate the model\n",
        "model = HadamardAutoencoder()\n",
        "model.to(device) # move the model to gpu if available\n",
        "print(model)\n",
        "optimizer = optim.Adam(model.parameters(), lr=0.0025)\n",
        "criterion = nn.L1Loss()"
      ],
      "metadata": {
        "colab": {
          "base_uri": "https://localhost:8080/"
        },
        "id": "dAncyB4KoiiL",
        "outputId": "a8620189-8e9b-4898-dd2c-95e2be0543c4"
      },
      "execution_count": null,
      "outputs": [
        {
          "output_type": "stream",
          "name": "stdout",
          "text": [
            "HadamardAutoencoder(\n",
            "  (encoder): Sequential(\n",
            "    (0): Linear(in_features=499, out_features=128, bias=True)\n",
            "    (1): ReLU()\n",
            "    (2): Linear(in_features=128, out_features=64, bias=True)\n",
            "  )\n",
            "  (decoder): Sequential(\n",
            "    (0): Linear(in_features=64, out_features=128, bias=True)\n",
            "    (1): ReLU()\n",
            "    (2): Linear(in_features=128, out_features=499, bias=True)\n",
            "    (3): Sigmoid()\n",
            "  )\n",
            ")\n"
          ]
        }
      ]
    },
    {
      "cell_type": "code",
      "source": [
        "#Self-Supervision set\n",
        "replicate_size = 20\n",
        "green_points_proportion = 0.4\n",
        "\n",
        "val_dataframe = pd.concat([val_dataframe] * replicate_size, ignore_index=True)\n",
        "mask = pd.concat([mask] * replicate_size, ignore_index=True)\n",
        "print(val_dataframe.info())"
      ],
      "metadata": {
        "colab": {
          "base_uri": "https://localhost:8080/"
        },
        "id": "MIMOqn9No7kG",
        "outputId": "654a0578-1672-4fc3-8248-fdb366d2c615"
      },
      "execution_count": null,
      "outputs": [
        {
          "output_type": "stream",
          "name": "stdout",
          "text": [
            "<class 'pandas.core.frame.DataFrame'>\n",
            "RangeIndex: 3760 entries, 0 to 3759\n",
            "Columns: 499 entries, gender to A8c_RecentAge\n",
            "dtypes: float64(499)\n",
            "memory usage: 14.3 MB\n",
            "None\n"
          ]
        }
      ]
    },
    {
      "cell_type": "code",
      "source": [
        "train_dataframe = val_dataframe.copy()\n",
        "# Calculate the average of each column\n",
        "column_means = train_dataframe.mean()\n",
        "\n",
        "# Operate on each column\n",
        "for column in train_dataframe.columns:\n",
        "    # Find the row in this column where mask is 1\n",
        "    mask_rows = mask[mask[column] == 1].index\n",
        "\n",
        "    # Calculate the number of rows that need to be replaced (40%)\n",
        "    num_to_replace = int(len(mask_rows) * green_points_proportion)\n",
        "\n",
        "    # Randomly select some of these rows\n",
        "    rows_to_replace = np.random.choice(mask_rows, num_to_replace, replace=False)\n",
        "\n",
        "    # Replace the value of the selected row with the average value of the column\n",
        "    train_dataframe.loc[rows_to_replace, column] = column_means[column]\n",
        "\n",
        "print(train_dataframe.head())"
      ],
      "metadata": {
        "colab": {
          "base_uri": "https://localhost:8080/"
        },
        "id": "ZVnWwSUfpBP_",
        "outputId": "35b2f77c-ca07-4108-dacc-a6cbb11deb57"
      },
      "execution_count": null,
      "outputs": [
        {
          "output_type": "stream",
          "name": "stdout",
          "text": [
            "     gender      SITE  CHILDREN  INPT_TX_EVER  OUTPT_TX_EVER  OTHER_TX_EVER  \\\n",
            "0  0.000000  0.000000  1.000000      0.000000       1.000000       1.000000   \n",
            "1  0.053191  0.000000  0.000000      0.154255       1.000000       0.113597   \n",
            "2  0.000000  0.345745  0.569149      0.000000       0.744681       0.000000   \n",
            "3  0.000000  1.000000  0.000000      0.000000       1.000000       0.000000   \n",
            "4  0.000000  0.345745  0.569149      0.000000       1.000000       0.113597   \n",
            "\n",
            "   CURRENT_MH_TX  ALCOHOL_TX  SUBST_TX  CURRENT_ALCOHOL_TX  ...  Factor.1.  \\\n",
            "0       0.420213    0.021277       0.0                 0.0  ...    0.00000   \n",
            "1       1.000000    0.021277       1.0                 0.0  ...    0.00000   \n",
            "2       0.000000    0.000000       0.0                 0.0  ...    0.00000   \n",
            "3       0.000000    0.000000       0.0                 0.0  ...    0.36926   \n",
            "4       1.000000    0.021277       0.0                 0.0  ...    0.34844   \n",
            "\n",
            "   Factor.2.  Factor.3.  Factor.4.  Factor.5.  Yrsincedep  \\\n",
            "0   0.689603   0.572179   0.334980   0.000000    0.135512   \n",
            "1   0.000000   0.142362   1.000000   0.364989    0.135512   \n",
            "2   0.595710   0.670599   0.267851   0.473390    0.238095   \n",
            "3   0.925377   0.473603   0.397818   0.000000    0.095238   \n",
            "4   0.595710   0.473603   0.717242   0.344275    0.135512   \n",
            "\n",
            "   A8_duration_worst_weeks...2...52..  A8a_episodes...2.   A8b_AAO  \\\n",
            "0                            0.027053           0.000000  0.615385   \n",
            "1                            1.000000           0.018852  0.309329   \n",
            "2                            0.027053           0.002004  0.250000   \n",
            "3                            0.000000           0.002004  0.000000   \n",
            "4                            0.027053           0.002004  0.461538   \n",
            "\n",
            "   A8c_RecentAge  \n",
            "0       0.964912  \n",
            "1       0.631579  \n",
            "2       0.561404  \n",
            "3       0.333333  \n",
            "4       0.000000  \n",
            "\n",
            "[5 rows x 499 columns]\n"
          ]
        }
      ]
    },
    {
      "cell_type": "code",
      "source": [
        "#prepare data\n",
        "val_dataframe = val_dataframe.astype(float)\n",
        "train_dataframe = train_dataframe.astype(float)\n",
        "mask = mask.astype(float)\n",
        "validation = torch.tensor(val_dataframe.values)\n",
        "train = torch.tensor(train_dataframe.values)\n",
        "mask_value = torch.tensor(mask.values)\n",
        "dataset = TensorDataset(train, validation, mask_value)\n",
        "data_loader = DataLoader(dataset, batch_size=32, shuffle=True)\n",
        "print(train_dataframe.head())\n",
        "print(val_dataframe.head())"
      ],
      "metadata": {
        "colab": {
          "base_uri": "https://localhost:8080/"
        },
        "id": "umKR1aIUpL-1",
        "outputId": "dc25c18a-ce00-4c97-a58a-096d089f98d0"
      },
      "execution_count": null,
      "outputs": [
        {
          "output_type": "stream",
          "name": "stdout",
          "text": [
            "     gender      SITE  CHILDREN  INPT_TX_EVER  OUTPT_TX_EVER  OTHER_TX_EVER  \\\n",
            "0  0.000000  0.000000  1.000000      0.000000       1.000000       1.000000   \n",
            "1  0.053191  0.000000  0.000000      0.154255       1.000000       0.113597   \n",
            "2  0.000000  0.345745  0.569149      0.000000       0.744681       0.000000   \n",
            "3  0.000000  1.000000  0.000000      0.000000       1.000000       0.000000   \n",
            "4  0.000000  0.345745  0.569149      0.000000       1.000000       0.113597   \n",
            "\n",
            "   CURRENT_MH_TX  ALCOHOL_TX  SUBST_TX  CURRENT_ALCOHOL_TX  ...  Factor.1.  \\\n",
            "0       0.420213    0.021277       0.0                 0.0  ...    0.00000   \n",
            "1       1.000000    0.021277       1.0                 0.0  ...    0.00000   \n",
            "2       0.000000    0.000000       0.0                 0.0  ...    0.00000   \n",
            "3       0.000000    0.000000       0.0                 0.0  ...    0.36926   \n",
            "4       1.000000    0.021277       0.0                 0.0  ...    0.34844   \n",
            "\n",
            "   Factor.2.  Factor.3.  Factor.4.  Factor.5.  Yrsincedep  \\\n",
            "0   0.689603   0.572179   0.334980   0.000000    0.135512   \n",
            "1   0.000000   0.142362   1.000000   0.364989    0.135512   \n",
            "2   0.595710   0.670599   0.267851   0.473390    0.238095   \n",
            "3   0.925377   0.473603   0.397818   0.000000    0.095238   \n",
            "4   0.595710   0.473603   0.717242   0.344275    0.135512   \n",
            "\n",
            "   A8_duration_worst_weeks...2...52..  A8a_episodes...2.   A8b_AAO  \\\n",
            "0                            0.027053           0.000000  0.615385   \n",
            "1                            1.000000           0.018852  0.309329   \n",
            "2                            0.027053           0.002004  0.250000   \n",
            "3                            0.000000           0.002004  0.000000   \n",
            "4                            0.027053           0.002004  0.461538   \n",
            "\n",
            "   A8c_RecentAge  \n",
            "0       0.964912  \n",
            "1       0.631579  \n",
            "2       0.561404  \n",
            "3       0.333333  \n",
            "4       0.000000  \n",
            "\n",
            "[5 rows x 499 columns]\n",
            "   gender  SITE  CHILDREN  INPT_TX_EVER  OUTPT_TX_EVER  OTHER_TX_EVER  \\\n",
            "0     0.0   0.0       1.0           0.0            1.0            1.0   \n",
            "1     0.0   0.0       0.0           1.0            1.0            0.0   \n",
            "2     0.0   1.0       1.0           0.0            1.0            0.0   \n",
            "3     0.0   1.0       0.0           0.0            1.0            0.0   \n",
            "4     0.0   1.0       0.0           0.0            1.0            0.0   \n",
            "\n",
            "   CURRENT_MH_TX  ALCOHOL_TX  SUBST_TX  CURRENT_ALCOHOL_TX  ...  Factor.1.  \\\n",
            "0            1.0         0.0       0.0                 0.0  ...   0.000000   \n",
            "1            1.0         0.0       1.0                 0.0  ...   0.000000   \n",
            "2            0.0         0.0       0.0                 0.0  ...   0.000000   \n",
            "3            0.0         0.0       0.0                 0.0  ...   0.369260   \n",
            "4            1.0         0.0       0.0                 0.0  ...   0.533276   \n",
            "\n",
            "   Factor.2.  Factor.3.  Factor.4.  Factor.5.  Yrsincedep  \\\n",
            "0   0.689603   0.572179   0.407575   0.000000    0.047619   \n",
            "1   0.000000   0.142362   1.000000   0.364989    0.000000   \n",
            "2   0.930506   0.670599   0.267851   0.473390    0.238095   \n",
            "3   0.925377   0.716106   0.397818   0.000000    0.095238   \n",
            "4   0.944755   0.348707   0.717242   0.740218    0.000000   \n",
            "\n",
            "   A8_duration_worst_weeks...2...52..  A8a_episodes...2.   A8b_AAO  \\\n",
            "0                            0.018364           0.000000  0.615385   \n",
            "1                            1.000000           0.600200  0.173077   \n",
            "2                            0.001669           0.002004  0.250000   \n",
            "3                            0.000000           0.002004  0.000000   \n",
            "4                            0.041736           0.002004  0.461538   \n",
            "\n",
            "   A8c_RecentAge  \n",
            "0       0.964912  \n",
            "1       0.631579  \n",
            "2       0.561404  \n",
            "3       0.333333  \n",
            "4       0.000000  \n",
            "\n",
            "[5 rows x 499 columns]\n"
          ]
        }
      ]
    },
    {
      "cell_type": "code",
      "source": [
        "#train the model\n",
        "epochs = 100\n",
        "for epoch in range(epochs):\n",
        "    for train_data, val_data, mask_data in data_loader:\n",
        "        # Move data to the specified device (GPU or CPU)\n",
        "        train_data = train_data.to(device).float()\n",
        "        val_data = val_data.to(device).float()\n",
        "        mask_data = mask_data.to(device).float()\n",
        "\n",
        "        optimizer.zero_grad()\n",
        "        output = model(train_data)\n",
        "        loss = criterion(output * mask_data, val_data * mask_data)  # Apply Hadamard product\n",
        "        loss.backward()\n",
        "        optimizer.step()\n",
        "\n",
        "    if epoch % 1 == 0:\n",
        "        print(f'Epoch {epoch}, Loss: {loss.item()}')\n",
        "\n",
        "train = train.float()\n",
        "final = model(train)\n",
        "loss = criterion(final * mask_value, validation * mask_value)\n",
        "print(f'Loss: {loss.item()}')"
      ],
      "metadata": {
        "colab": {
          "base_uri": "https://localhost:8080/"
        },
        "id": "xpu_YUPbpO6L",
        "outputId": "e77eb5f4-51ea-4b37-e725-45c4643e8c6f"
      },
      "execution_count": null,
      "outputs": [
        {
          "output_type": "stream",
          "name": "stdout",
          "text": [
            "Epoch 0, Loss: 0.10654013603925705\n",
            "Epoch 1, Loss: 0.0885891243815422\n",
            "Epoch 2, Loss: 0.09937212616205215\n",
            "Epoch 3, Loss: 0.0855308473110199\n",
            "Epoch 4, Loss: 0.07161423563957214\n",
            "Epoch 5, Loss: 0.07292848080396652\n",
            "Epoch 6, Loss: 0.06534670293331146\n",
            "Epoch 7, Loss: 0.06446529179811478\n",
            "Epoch 8, Loss: 0.07061706483364105\n",
            "Epoch 9, Loss: 0.058724675327539444\n",
            "Epoch 10, Loss: 0.057679709047079086\n",
            "Epoch 11, Loss: 0.05147670581936836\n",
            "Epoch 12, Loss: 0.05448358878493309\n",
            "Epoch 13, Loss: 0.05098417401313782\n",
            "Epoch 14, Loss: 0.04362739995121956\n",
            "Epoch 15, Loss: 0.04263455048203468\n",
            "Epoch 16, Loss: 0.040381915867328644\n",
            "Epoch 17, Loss: 0.04395603761076927\n",
            "Epoch 18, Loss: 0.04142395779490471\n",
            "Epoch 19, Loss: 0.04455546662211418\n",
            "Epoch 20, Loss: 0.042312003672122955\n",
            "Epoch 21, Loss: 0.03635239973664284\n",
            "Epoch 22, Loss: 0.037857238203287125\n",
            "Epoch 23, Loss: 0.03622032701969147\n",
            "Epoch 24, Loss: 0.037994470447301865\n",
            "Epoch 25, Loss: 0.03990570083260536\n",
            "Epoch 26, Loss: 0.029994934797286987\n",
            "Epoch 27, Loss: 0.03759203851222992\n",
            "Epoch 28, Loss: 0.03414735198020935\n",
            "Epoch 29, Loss: 0.035192206501960754\n",
            "Epoch 30, Loss: 0.029302410781383514\n",
            "Epoch 31, Loss: 0.032204292714595795\n",
            "Epoch 32, Loss: 0.032761555165052414\n",
            "Epoch 33, Loss: 0.0274560134857893\n",
            "Epoch 34, Loss: 0.02670936845242977\n",
            "Epoch 35, Loss: 0.035274848341941833\n",
            "Epoch 36, Loss: 0.029096487909555435\n",
            "Epoch 37, Loss: 0.030481163412332535\n",
            "Epoch 38, Loss: 0.030009541660547256\n",
            "Epoch 39, Loss: 0.03200291097164154\n",
            "Epoch 40, Loss: 0.0256304033100605\n",
            "Epoch 41, Loss: 0.027645563706755638\n",
            "Epoch 42, Loss: 0.03092743642628193\n",
            "Epoch 43, Loss: 0.030818670988082886\n",
            "Epoch 44, Loss: 0.026568347588181496\n",
            "Epoch 45, Loss: 0.03121834062039852\n",
            "Epoch 46, Loss: 0.028925955295562744\n",
            "Epoch 47, Loss: 0.0263010635972023\n",
            "Epoch 48, Loss: 0.034853383898735046\n",
            "Epoch 49, Loss: 0.02705073170363903\n",
            "Epoch 50, Loss: 0.026972031220793724\n",
            "Epoch 51, Loss: 0.027042726054787636\n",
            "Epoch 52, Loss: 0.03265383839607239\n",
            "Epoch 53, Loss: 0.020970596000552177\n",
            "Epoch 54, Loss: 0.02352963574230671\n",
            "Epoch 55, Loss: 0.024767804890871048\n",
            "Epoch 56, Loss: 0.02213023602962494\n",
            "Epoch 57, Loss: 0.026850825175642967\n",
            "Epoch 58, Loss: 0.02688850462436676\n",
            "Epoch 59, Loss: 0.02655041217803955\n",
            "Epoch 60, Loss: 0.028925864025950432\n",
            "Epoch 61, Loss: 0.02464004047214985\n",
            "Epoch 62, Loss: 0.02606181614100933\n",
            "Epoch 63, Loss: 0.021653827279806137\n",
            "Epoch 64, Loss: 0.026105402037501335\n",
            "Epoch 65, Loss: 0.02554236724972725\n",
            "Epoch 66, Loss: 0.02394670434296131\n",
            "Epoch 67, Loss: 0.02874123677611351\n",
            "Epoch 68, Loss: 0.02441290393471718\n",
            "Epoch 69, Loss: 0.023422710597515106\n",
            "Epoch 70, Loss: 0.0235733762383461\n",
            "Epoch 71, Loss: 0.024776576086878777\n",
            "Epoch 72, Loss: 0.02001173421740532\n",
            "Epoch 73, Loss: 0.021368613466620445\n",
            "Epoch 74, Loss: 0.025379858911037445\n",
            "Epoch 75, Loss: 0.021456072106957436\n",
            "Epoch 76, Loss: 0.022169478237628937\n",
            "Epoch 77, Loss: 0.027217356488108635\n",
            "Epoch 78, Loss: 0.020147480070590973\n",
            "Epoch 79, Loss: 0.026508469134569168\n",
            "Epoch 80, Loss: 0.022082457318902016\n",
            "Epoch 81, Loss: 0.020549677312374115\n",
            "Epoch 82, Loss: 0.023379499092698097\n",
            "Epoch 83, Loss: 0.02182672917842865\n",
            "Epoch 84, Loss: 0.021392835304141045\n",
            "Epoch 85, Loss: 0.022592222318053246\n",
            "Epoch 86, Loss: 0.022773966193199158\n",
            "Epoch 87, Loss: 0.02583995647728443\n",
            "Epoch 88, Loss: 0.021803690120577812\n",
            "Epoch 89, Loss: 0.022042203694581985\n",
            "Epoch 90, Loss: 0.02344447560608387\n",
            "Epoch 91, Loss: 0.021238181740045547\n",
            "Epoch 92, Loss: 0.021902862936258316\n",
            "Epoch 93, Loss: 0.023672781884670258\n",
            "Epoch 94, Loss: 0.02024785429239273\n",
            "Epoch 95, Loss: 0.022766603156924248\n",
            "Epoch 96, Loss: 0.020256465300917625\n",
            "Epoch 97, Loss: 0.021414775401353836\n",
            "Epoch 98, Loss: 0.017743727192282677\n",
            "Epoch 99, Loss: 0.021585483103990555\n",
            "Loss: 0.02129226817628985\n"
          ]
        }
      ]
    },
    {
      "cell_type": "code",
      "source": [
        "loss=criterion(train * mask_value, validation * mask_value)\n",
        "print(f'Loss: {loss.item()}')"
      ],
      "metadata": {
        "colab": {
          "base_uri": "https://localhost:8080/"
        },
        "id": "bV89Vm6CpUpz",
        "outputId": "d7b4621c-4212-4e5c-c760-f46f2479a6a7"
      },
      "execution_count": null,
      "outputs": [
        {
          "output_type": "stream",
          "name": "stdout",
          "text": [
            "Loss: 0.05703199348315137\n"
          ]
        }
      ]
    },
    {
      "cell_type": "code",
      "source": [
        "#try impute with average\n",
        "mean_dataframe = val_re.copy()\n",
        "# Calculate the average of each column\n",
        "column_means = mean_dataframe.mean()\n",
        "\n",
        "# Operate on each column\n",
        "for column in mean_dataframe.columns:\n",
        "    # Find the row in this column where mask is 0\n",
        "    mask_rows = mask_re[mask_re[column] == 0].index\n",
        "    mean_dataframe.loc[mask_rows, column] = column_means[column]\n",
        "\n",
        "mean = torch.tensor(mean_dataframe.values)\n",
        "val = torch.tensor(val_re.values)"
      ],
      "metadata": {
        "id": "dD_Ep9LEpXaL"
      },
      "execution_count": null,
      "outputs": []
    },
    {
      "cell_type": "code",
      "source": [
        "#deal with normalized_dataframe\n",
        "norm = torch.tensor(normalized_dataframe.values)\n",
        "loss=criterion(mean , norm )\n",
        "print(f'Loss: {loss.item()}')\n",
        "#Loss of average imputation"
      ],
      "metadata": {
        "colab": {
          "base_uri": "https://localhost:8080/"
        },
        "id": "Rz1WVOvnpikL",
        "outputId": "6077f55f-ee63-4a38-c7ea-230328b638d5"
      },
      "execution_count": null,
      "outputs": [
        {
          "output_type": "stream",
          "name": "stdout",
          "text": [
            "Loss: 0.03544224753750929\n"
          ]
        }
      ]
    },
    {
      "cell_type": "code",
      "source": [
        "mask_select = torch.tensor(mask_re.values)\n",
        "val = val.float()\n",
        "impute = model(val)\n",
        "impute_norm = torch.where(mask_select == 1, val, impute)\n",
        "loss=criterion(impute_norm , norm )\n",
        "print(f'Loss: {loss.item()}')\n",
        "#Loss of imputation method we use"
      ],
      "metadata": {
        "colab": {
          "base_uri": "https://localhost:8080/"
        },
        "id": "b8sHuPHgpsH4",
        "outputId": "cdebdad3-9b96-460f-cb7c-8c415802a9c5"
      },
      "execution_count": null,
      "outputs": [
        {
          "output_type": "stream",
          "name": "stdout",
          "text": [
            "Loss: 0.022919794824195212\n"
          ]
        }
      ]
    },
    {
      "cell_type": "code",
      "source": [
        "#read original data\n",
        "origin = pd.read_csv('/gdrive/My Drive/Colab Notebooks/cutoff_case_mix.txt', delimiter='\\t')\n",
        "mask_na = (~origin.isna()).astype(int)\n",
        "origin.fillna(df.mean(), inplace=True)\n",
        "print(origin.info())\n",
        "print(origin.head())\n",
        "print(mask_na.info())\n",
        "print(mask_na.head())"
      ],
      "metadata": {
        "colab": {
          "base_uri": "https://localhost:8080/"
        },
        "id": "NL79nyE8_yE-",
        "outputId": "4a8b83fc-e656-4199-96f1-f4b2888c1f14"
      },
      "execution_count": null,
      "outputs": [
        {
          "output_type": "stream",
          "name": "stdout",
          "text": [
            "<class 'pandas.core.frame.DataFrame'>\n",
            "RangeIndex: 462 entries, 0 to 461\n",
            "Columns: 499 entries, gender to A8c_RecentAge\n",
            "dtypes: float64(244), int64(255)\n",
            "memory usage: 1.8 MB\n",
            "None\n",
            "   gender  SITE  CHILDREN  INPT_TX_EVER  OUTPT_TX_EVER  OTHER_TX_EVER  \\\n",
            "0       0     0       0.0             0              0            1.0   \n",
            "1       0     0       1.0             0              1            0.0   \n",
            "2       0     0       1.0             0              1            1.0   \n",
            "3       0     0       0.0             1              1            0.0   \n",
            "4       0     0       0.0             0              1            0.0   \n",
            "\n",
            "   CURRENT_MH_TX  ALCOHOL_TX  SUBST_TX  CURRENT_ALCOHOL_TX  ...  Factor.1.  \\\n",
            "0              0           0         0                   0  ...   0.061065   \n",
            "1              1           0         0                   0  ...   0.040712   \n",
            "2              1           0         0                   0  ...   0.013619   \n",
            "3              1           0         1                   0  ...   0.050918   \n",
            "4              1           0         0                   0  ...  -0.042904   \n",
            "\n",
            "   Factor.2.  Factor.3.  Factor.4.  Factor.5.  Yrsincedep  \\\n",
            "0  -0.035674   0.030050   0.006623   0.041434           0   \n",
            "1   0.035450   0.023642  -0.053246   0.019314           1   \n",
            "2  -0.008851  -0.009791  -0.001520   0.011540           1   \n",
            "3  -0.020381  -0.119638   0.156657  -0.009240           0   \n",
            "4  -0.053284  -0.021598   0.074899  -0.012401           4   \n",
            "\n",
            "   A8_duration_worst_weeks...2...52..  A8a_episodes...2.  A8b_AAO  \\\n",
            "0                                 6.0                4.0     12.0   \n",
            "1                                12.0                5.0     28.0   \n",
            "2                                24.0                2.0     34.0   \n",
            "3                              1200.0              600.0     11.0   \n",
            "4                                20.0                4.0     19.0   \n",
            "\n",
            "   A8c_RecentAge  \n",
            "0           55.0  \n",
            "1           40.0  \n",
            "2           58.0  \n",
            "3           39.0  \n",
            "4           58.0  \n",
            "\n",
            "[5 rows x 499 columns]\n",
            "<class 'pandas.core.frame.DataFrame'>\n",
            "RangeIndex: 462 entries, 0 to 461\n",
            "Columns: 499 entries, gender to A8c_RecentAge\n",
            "dtypes: int64(499)\n",
            "memory usage: 1.8 MB\n",
            "None\n",
            "   gender  SITE  CHILDREN  INPT_TX_EVER  OUTPT_TX_EVER  OTHER_TX_EVER  \\\n",
            "0       1     1         1             1              1              1   \n",
            "1       1     1         1             1              1              1   \n",
            "2       1     1         1             1              1              1   \n",
            "3       1     1         1             1              1              1   \n",
            "4       1     1         1             1              1              1   \n",
            "\n",
            "   CURRENT_MH_TX  ALCOHOL_TX  SUBST_TX  CURRENT_ALCOHOL_TX  ...  Factor.1.  \\\n",
            "0              1           1         1                   1  ...          1   \n",
            "1              1           1         1                   1  ...          1   \n",
            "2              1           1         1                   1  ...          1   \n",
            "3              1           1         1                   1  ...          1   \n",
            "4              1           1         1                   1  ...          1   \n",
            "\n",
            "   Factor.2.  Factor.3.  Factor.4.  Factor.5.  Yrsincedep  \\\n",
            "0          1          1          1          1           1   \n",
            "1          1          1          1          1           1   \n",
            "2          1          1          1          1           1   \n",
            "3          1          1          1          1           1   \n",
            "4          1          1          1          1           1   \n",
            "\n",
            "   A8_duration_worst_weeks...2...52..  A8a_episodes...2.  A8b_AAO  \\\n",
            "0                                   1                  1        1   \n",
            "1                                   1                  1        1   \n",
            "2                                   1                  1        1   \n",
            "3                                   1                  1        1   \n",
            "4                                   1                  1        1   \n",
            "\n",
            "   A8c_RecentAge  \n",
            "0              1  \n",
            "1              1  \n",
            "2              1  \n",
            "3              1  \n",
            "4              1  \n",
            "\n",
            "[5 rows x 499 columns]\n"
          ]
        }
      ]
    },
    {
      "cell_type": "code",
      "source": [
        "#normalization\n",
        "scaler = MinMaxScaler()\n",
        "normalized_origin = scaler.fit_transform(origin)\n",
        "normalized_origin = pd.DataFrame(normalized_origin, columns=origin.columns)\n",
        "print(normalized_origin.head())"
      ],
      "metadata": {
        "colab": {
          "base_uri": "https://localhost:8080/"
        },
        "id": "LTdFSdw0ADCi",
        "outputId": "c2641425-26cc-4a09-8ad7-c1e843530c14"
      },
      "execution_count": null,
      "outputs": [
        {
          "output_type": "stream",
          "name": "stdout",
          "text": [
            "   gender  SITE  CHILDREN  INPT_TX_EVER  OUTPT_TX_EVER  OTHER_TX_EVER  \\\n",
            "0     0.0   0.0       0.0           0.0            0.0            1.0   \n",
            "1     0.0   0.0       1.0           0.0            1.0            0.0   \n",
            "2     0.0   0.0       1.0           0.0            1.0            1.0   \n",
            "3     0.0   0.0       0.0           1.0            1.0            0.0   \n",
            "4     0.0   0.0       0.0           0.0            1.0            0.0   \n",
            "\n",
            "   CURRENT_MH_TX  ALCOHOL_TX  SUBST_TX  CURRENT_ALCOHOL_TX  ...  Factor.1.  \\\n",
            "0            0.0         0.0       0.0                 0.0  ...   0.633459   \n",
            "1            1.0         0.0       0.0                 0.0  ...   0.551896   \n",
            "2            1.0         0.0       0.0                 0.0  ...   0.443323   \n",
            "3            1.0         0.0       1.0                 0.0  ...   0.592795   \n",
            "4            1.0         0.0       0.0                 0.0  ...   0.216813   \n",
            "\n",
            "   Factor.2.  Factor.3.  Factor.4.  Factor.5.  Yrsincedep  \\\n",
            "0   0.563047   0.728071   0.462336   0.573377    0.000000   \n",
            "1   0.898625   0.702998   0.247789   0.501442    0.033333   \n",
            "2   0.689603   0.572179   0.433155   0.476161    0.033333   \n",
            "3   0.635203   0.142362   1.000000   0.408584    0.000000   \n",
            "4   0.479959   0.525979   0.707011   0.398304    0.133333   \n",
            "\n",
            "   A8_duration_worst_weeks...2...52..  A8a_episodes...2.   A8b_AAO  \\\n",
            "0                            0.001327           0.003006  0.188679   \n",
            "1                            0.003318           0.004008  0.490566   \n",
            "2                            0.007299           0.001002  0.603774   \n",
            "3                            0.397478           0.600200  0.169811   \n",
            "4                            0.005972           0.003006  0.320755   \n",
            "\n",
            "   A8c_RecentAge  \n",
            "0       0.912281  \n",
            "1       0.649123  \n",
            "2       0.964912  \n",
            "3       0.631579  \n",
            "4       0.964912  \n",
            "\n",
            "[5 rows x 499 columns]\n"
          ]
        }
      ]
    },
    {
      "cell_type": "code",
      "source": [
        "origin_tensor = torch.tensor(normalized_origin.values)\n",
        "cover = torch.tensor(mask_na.values)\n",
        "\n",
        "origin_tensor = origin_tensor.float()\n",
        "origin_impute = model(origin_tensor)\n",
        "new = torch.where(cover == 1, origin_tensor, origin_impute)\n",
        "\n",
        "new_detached = new.detach()\n",
        "new_np = new_detached.numpy()\n",
        "new_dataframe = pd.DataFrame(new_np, columns=origin.columns)\n",
        "print(new_dataframe.head())\n",
        "print(normalized_origin.head())"
      ],
      "metadata": {
        "colab": {
          "base_uri": "https://localhost:8080/"
        },
        "id": "Dea8jeuIAGGk",
        "outputId": "e5f75679-a400-425f-c2af-5d5f9473659b"
      },
      "execution_count": null,
      "outputs": [
        {
          "output_type": "stream",
          "name": "stdout",
          "text": [
            "   gender  SITE  CHILDREN  INPT_TX_EVER  OUTPT_TX_EVER  OTHER_TX_EVER  \\\n",
            "0     0.0   0.0       0.0           0.0            0.0            1.0   \n",
            "1     0.0   0.0       1.0           0.0            1.0            0.0   \n",
            "2     0.0   0.0       1.0           0.0            1.0            1.0   \n",
            "3     0.0   0.0       0.0           1.0            1.0            0.0   \n",
            "4     0.0   0.0       0.0           0.0            1.0            0.0   \n",
            "\n",
            "   CURRENT_MH_TX  ALCOHOL_TX  SUBST_TX  CURRENT_ALCOHOL_TX  ...  Factor.1.  \\\n",
            "0            0.0         0.0       0.0                 0.0  ...   0.633459   \n",
            "1            1.0         0.0       0.0                 0.0  ...   0.551896   \n",
            "2            1.0         0.0       0.0                 0.0  ...   0.443323   \n",
            "3            1.0         0.0       1.0                 0.0  ...   0.592795   \n",
            "4            1.0         0.0       0.0                 0.0  ...   0.216813   \n",
            "\n",
            "   Factor.2.  Factor.3.  Factor.4.  Factor.5.  Yrsincedep  \\\n",
            "0   0.563047   0.728071   0.462336   0.573377    0.000000   \n",
            "1   0.898625   0.702998   0.247789   0.501442    0.033333   \n",
            "2   0.689603   0.572179   0.433155   0.476161    0.033333   \n",
            "3   0.635203   0.142362   1.000000   0.408584    0.000000   \n",
            "4   0.479959   0.525979   0.707011   0.398304    0.133333   \n",
            "\n",
            "   A8_duration_worst_weeks...2...52..  A8a_episodes...2.   A8b_AAO  \\\n",
            "0                            0.001327           0.003006  0.188679   \n",
            "1                            0.003318           0.004008  0.490566   \n",
            "2                            0.007299           0.001002  0.603774   \n",
            "3                            0.397478           0.600200  0.169811   \n",
            "4                            0.005972           0.003006  0.320755   \n",
            "\n",
            "   A8c_RecentAge  \n",
            "0       0.912281  \n",
            "1       0.649123  \n",
            "2       0.964912  \n",
            "3       0.631579  \n",
            "4       0.964912  \n",
            "\n",
            "[5 rows x 499 columns]\n",
            "   gender  SITE  CHILDREN  INPT_TX_EVER  OUTPT_TX_EVER  OTHER_TX_EVER  \\\n",
            "0     0.0   0.0       0.0           0.0            0.0            1.0   \n",
            "1     0.0   0.0       1.0           0.0            1.0            0.0   \n",
            "2     0.0   0.0       1.0           0.0            1.0            1.0   \n",
            "3     0.0   0.0       0.0           1.0            1.0            0.0   \n",
            "4     0.0   0.0       0.0           0.0            1.0            0.0   \n",
            "\n",
            "   CURRENT_MH_TX  ALCOHOL_TX  SUBST_TX  CURRENT_ALCOHOL_TX  ...  Factor.1.  \\\n",
            "0            0.0         0.0       0.0                 0.0  ...   0.633459   \n",
            "1            1.0         0.0       0.0                 0.0  ...   0.551896   \n",
            "2            1.0         0.0       0.0                 0.0  ...   0.443323   \n",
            "3            1.0         0.0       1.0                 0.0  ...   0.592795   \n",
            "4            1.0         0.0       0.0                 0.0  ...   0.216813   \n",
            "\n",
            "   Factor.2.  Factor.3.  Factor.4.  Factor.5.  Yrsincedep  \\\n",
            "0   0.563047   0.728071   0.462336   0.573377    0.000000   \n",
            "1   0.898625   0.702998   0.247789   0.501442    0.033333   \n",
            "2   0.689603   0.572179   0.433155   0.476161    0.033333   \n",
            "3   0.635203   0.142362   1.000000   0.408584    0.000000   \n",
            "4   0.479959   0.525979   0.707011   0.398304    0.133333   \n",
            "\n",
            "   A8_duration_worst_weeks...2...52..  A8a_episodes...2.   A8b_AAO  \\\n",
            "0                            0.001327           0.003006  0.188679   \n",
            "1                            0.003318           0.004008  0.490566   \n",
            "2                            0.007299           0.001002  0.603774   \n",
            "3                            0.397478           0.600200  0.169811   \n",
            "4                            0.005972           0.003006  0.320755   \n",
            "\n",
            "   A8c_RecentAge  \n",
            "0       0.912281  \n",
            "1       0.649123  \n",
            "2       0.964912  \n",
            "3       0.631579  \n",
            "4       0.964912  \n",
            "\n",
            "[5 rows x 499 columns]\n"
          ]
        }
      ]
    },
    {
      "cell_type": "code",
      "source": [
        "#get encode\n",
        "encoded_data = model.encode(origin_tensor)\n",
        "encoded_data_np = encoded_data.detach().numpy()\n",
        "encoded_data_df = pd.DataFrame(encoded_data_np)\n",
        "print(encoded_data_df.info())\n",
        "print(encoded_data_df.head())"
      ],
      "metadata": {
        "colab": {
          "base_uri": "https://localhost:8080/"
        },
        "id": "bBzo5oS9Ercn",
        "outputId": "9d4a7835-d37d-48ce-8537-1e7925df9720"
      },
      "execution_count": null,
      "outputs": [
        {
          "output_type": "stream",
          "name": "stdout",
          "text": [
            "<class 'pandas.core.frame.DataFrame'>\n",
            "RangeIndex: 462 entries, 0 to 461\n",
            "Data columns (total 64 columns):\n",
            " #   Column  Non-Null Count  Dtype  \n",
            "---  ------  --------------  -----  \n",
            " 0   0       462 non-null    float32\n",
            " 1   1       462 non-null    float32\n",
            " 2   2       462 non-null    float32\n",
            " 3   3       462 non-null    float32\n",
            " 4   4       462 non-null    float32\n",
            " 5   5       462 non-null    float32\n",
            " 6   6       462 non-null    float32\n",
            " 7   7       462 non-null    float32\n",
            " 8   8       462 non-null    float32\n",
            " 9   9       462 non-null    float32\n",
            " 10  10      462 non-null    float32\n",
            " 11  11      462 non-null    float32\n",
            " 12  12      462 non-null    float32\n",
            " 13  13      462 non-null    float32\n",
            " 14  14      462 non-null    float32\n",
            " 15  15      462 non-null    float32\n",
            " 16  16      462 non-null    float32\n",
            " 17  17      462 non-null    float32\n",
            " 18  18      462 non-null    float32\n",
            " 19  19      462 non-null    float32\n",
            " 20  20      462 non-null    float32\n",
            " 21  21      462 non-null    float32\n",
            " 22  22      462 non-null    float32\n",
            " 23  23      462 non-null    float32\n",
            " 24  24      462 non-null    float32\n",
            " 25  25      462 non-null    float32\n",
            " 26  26      462 non-null    float32\n",
            " 27  27      462 non-null    float32\n",
            " 28  28      462 non-null    float32\n",
            " 29  29      462 non-null    float32\n",
            " 30  30      462 non-null    float32\n",
            " 31  31      462 non-null    float32\n",
            " 32  32      462 non-null    float32\n",
            " 33  33      462 non-null    float32\n",
            " 34  34      462 non-null    float32\n",
            " 35  35      462 non-null    float32\n",
            " 36  36      462 non-null    float32\n",
            " 37  37      462 non-null    float32\n",
            " 38  38      462 non-null    float32\n",
            " 39  39      462 non-null    float32\n",
            " 40  40      462 non-null    float32\n",
            " 41  41      462 non-null    float32\n",
            " 42  42      462 non-null    float32\n",
            " 43  43      462 non-null    float32\n",
            " 44  44      462 non-null    float32\n",
            " 45  45      462 non-null    float32\n",
            " 46  46      462 non-null    float32\n",
            " 47  47      462 non-null    float32\n",
            " 48  48      462 non-null    float32\n",
            " 49  49      462 non-null    float32\n",
            " 50  50      462 non-null    float32\n",
            " 51  51      462 non-null    float32\n",
            " 52  52      462 non-null    float32\n",
            " 53  53      462 non-null    float32\n",
            " 54  54      462 non-null    float32\n",
            " 55  55      462 non-null    float32\n",
            " 56  56      462 non-null    float32\n",
            " 57  57      462 non-null    float32\n",
            " 58  58      462 non-null    float32\n",
            " 59  59      462 non-null    float32\n",
            " 60  60      462 non-null    float32\n",
            " 61  61      462 non-null    float32\n",
            " 62  62      462 non-null    float32\n",
            " 63  63      462 non-null    float32\n",
            "dtypes: float32(64)\n",
            "memory usage: 115.6 KB\n",
            "None\n",
            "         0         1         2         3         4         5         6   \\\n",
            "0  0.313849  1.291928 -1.628533  3.361406 -1.431098  0.516290  1.222596   \n",
            "1 -0.447240 -0.465930 -1.465242  2.438967  1.409415  1.069483 -0.915119   \n",
            "2  1.165827  1.562188 -0.741278 -0.800217 -2.464362 -0.629801  0.626517   \n",
            "3 -1.585725 -0.168282 -0.733794  1.278340 -1.282572 -1.184253  0.693684   \n",
            "4 -1.547024  1.959788 -1.756976  0.123166 -1.388378  0.927321 -0.644544   \n",
            "\n",
            "         7         8         9   ...        54        55        56        57  \\\n",
            "0 -0.775925 -0.660326 -0.770348  ...  2.795220  3.147542 -0.963452  1.856524   \n",
            "1  2.559283 -0.662790 -0.342221  ... -0.372996 -0.323724  0.093882  0.762922   \n",
            "2 -2.570214  2.574614  0.964198  ... -1.329795  0.971405 -0.884382  2.252347   \n",
            "3 -0.254726  1.209999  1.244289  ...  0.070112  0.854271 -0.158602 -0.560530   \n",
            "4  1.025521  1.217794 -1.508378  ... -0.293324 -0.166164  1.169336  2.068616   \n",
            "\n",
            "         58        59        60        61        62        63  \n",
            "0  2.475065 -1.339064 -1.630410 -1.254356 -1.538991  0.174394  \n",
            "1  2.017256  0.822864 -2.290916  0.173008  0.388086  0.646574  \n",
            "2  0.848103  2.124839  1.853007  0.738882  1.550811 -4.122365  \n",
            "3  1.361605  1.425824 -1.462950 -0.264887  0.128999 -0.523701  \n",
            "4  0.241996  1.127413 -0.233896  1.470106 -0.182047 -0.107986  \n",
            "\n",
            "[5 rows x 64 columns]\n"
          ]
        }
      ]
    },
    {
      "cell_type": "code",
      "source": [
        "new_dataframe.to_csv('/gdrive/My Drive/Colab Notebooks/case_output.txt', sep='\\t', index=False)\n",
        "encoded_data_df.to_csv('/gdrive/My Drive/Colab Notebooks/case_encode.txt', sep='\\t', index=False)"
      ],
      "metadata": {
        "id": "fDKEZLnRAMLN"
      },
      "execution_count": null,
      "outputs": []
    }
  ]
}