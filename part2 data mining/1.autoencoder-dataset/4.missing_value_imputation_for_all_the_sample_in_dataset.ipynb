{
  "nbformat": 4,
  "nbformat_minor": 0,
  "metadata": {
    "colab": {
      "provenance": []
    },
    "kernelspec": {
      "name": "python3",
      "display_name": "Python 3"
    },
    "language_info": {
      "name": "python"
    }
  },
  "cells": [
    {
      "cell_type": "code",
      "execution_count": null,
      "metadata": {
        "id": "X57L_IdiSmNZ"
      },
      "outputs": [],
      "source": []
    },
    {
      "cell_type": "code",
      "source": [
        "from google.colab import drive\n",
        "drive.mount('/gdrive', force_remount=True)"
      ],
      "metadata": {
        "colab": {
          "base_uri": "https://localhost:8080/"
        },
        "id": "v5YU_qDsTA_h",
        "outputId": "d5931ba4-bb45-43d7-9f3c-132ec3c68524"
      },
      "execution_count": null,
      "outputs": [
        {
          "output_type": "stream",
          "name": "stdout",
          "text": [
            "Mounted at /gdrive\n"
          ]
        }
      ]
    },
    {
      "cell_type": "code",
      "source": [
        "import pandas as pd\n",
        "import numpy as np\n",
        "from sklearn.preprocessing import MinMaxScaler\n",
        "import torch\n",
        "import torch.nn as nn\n",
        "import torch.optim as optim\n",
        "from torch.utils.data import DataLoader, TensorDataset"
      ],
      "metadata": {
        "id": "s-MpdOmGUVy5"
      },
      "execution_count": null,
      "outputs": []
    },
    {
      "cell_type": "code",
      "source": [
        "#import data\n",
        "dir = \"/gdrive/My Drive/Colab Notebooks\"\n",
        "df = pd.read_csv('/gdrive/My Drive/Colab Notebooks/cutoff_dataset_prepare.txt', delimiter='\\t')\n",
        "print(df.head())\n",
        "print(df.info())"
      ],
      "metadata": {
        "colab": {
          "base_uri": "https://localhost:8080/"
        },
        "id": "qdCJHeGDTPke",
        "outputId": "27f03130-b625-4a7e-8963-a2401a53fc28"
      },
      "execution_count": null,
      "outputs": [
        {
          "output_type": "stream",
          "name": "stdout",
          "text": [
            "   gender  SITE  CHILDREN  INPT_TX_EVER  OUTPT_TX_EVER  OTHER_TX_EVER  \\\n",
            "0       0     0         1             1              1              1   \n",
            "1       0     0         3             1              3              3   \n",
            "2       0     0         3             1              1              1   \n",
            "3       0     0         3             1              3              3   \n",
            "4       1     0         3             1              1              1   \n",
            "\n",
            "   CURRENT_MH_TX  ALCOHOL_TX  SUBST_TX  CURRENT_ALCOHOL_TX  ...  \\\n",
            "0              1           1         1                   1  ...   \n",
            "1              3           1         1                   1  ...   \n",
            "2              1           1         1                   1  ...   \n",
            "3              1           1         1                   1  ...   \n",
            "4              1           1         1                   1  ...   \n",
            "\n",
            "   Num_Traumatic  IFNPATHSCORE  PPAGE_at_interview  PPEDUC  PPHHSIZE  \\\n",
            "0              0      0.002986                  22      10         4   \n",
            "1              6     -0.030276                  59       8         1   \n",
            "2              2     -0.030807                  33      12         4   \n",
            "3              0     -0.013907                  55      13         2   \n",
            "4              1      0.001989                  34      13         5   \n",
            "\n",
            "   PPINCIMP  PPSTATEN  Qb.height_inches  Qc_weight  Qd_max_weight  \n",
            "0        13        59                 7        200            205  \n",
            "1         3        59                 9        198            198  \n",
            "2        12        33                 7        230            230  \n",
            "3        16        51                 4        140            160  \n",
            "4        10        87                 9        200            247  \n",
            "\n",
            "[5 rows x 428 columns]\n",
            "<class 'pandas.core.frame.DataFrame'>\n",
            "RangeIndex: 598 entries, 0 to 597\n",
            "Columns: 428 entries, gender to Qd_max_weight\n",
            "dtypes: float64(7), int64(421)\n",
            "memory usage: 2.0 MB\n",
            "None\n"
          ]
        }
      ]
    },
    {
      "cell_type": "code",
      "source": [
        "#normalization\n",
        "scaler = MinMaxScaler()\n",
        "normalized_data = scaler.fit_transform(df)\n",
        "normalized_dataframe = pd.DataFrame(normalized_data, columns=df.columns)\n",
        "print(normalized_dataframe.head())"
      ],
      "metadata": {
        "colab": {
          "base_uri": "https://localhost:8080/"
        },
        "id": "qSNSAKaZVxna",
        "outputId": "8bf50f74-3c50-4d45-e4b6-e7e4de7b9a52"
      },
      "execution_count": null,
      "outputs": [
        {
          "output_type": "stream",
          "name": "stdout",
          "text": [
            "   gender  SITE  CHILDREN  INPT_TX_EVER  OUTPT_TX_EVER  OTHER_TX_EVER  \\\n",
            "0     0.0   0.0       0.0           0.0            0.0            0.0   \n",
            "1     0.0   0.0       1.0           0.0            1.0            1.0   \n",
            "2     0.0   0.0       1.0           0.0            0.0            0.0   \n",
            "3     0.0   0.0       1.0           0.0            1.0            1.0   \n",
            "4     1.0   0.0       1.0           0.0            0.0            0.0   \n",
            "\n",
            "   CURRENT_MH_TX  ALCOHOL_TX  SUBST_TX  CURRENT_ALCOHOL_TX  ...  \\\n",
            "0            0.0         0.0       0.0                 0.0  ...   \n",
            "1            1.0         0.0       0.0                 0.0  ...   \n",
            "2            0.0         0.0       0.0                 0.0  ...   \n",
            "3            0.0         0.0       0.0                 0.0  ...   \n",
            "4            0.0         0.0       0.0                 0.0  ...   \n",
            "\n",
            "   Num_Traumatic  IFNPATHSCORE  PPAGE_at_interview    PPEDUC  PPHHSIZE  \\\n",
            "0       0.000000      0.409393            0.025641  0.555556  0.230769   \n",
            "1       0.545455      0.246946            0.974359  0.333333  0.000000   \n",
            "2       0.181818      0.244353            0.307692  0.777778  0.230769   \n",
            "3       0.000000      0.326890            0.871795  0.888889  0.076923   \n",
            "4       0.090909      0.404523            0.333333  0.888889  0.307692   \n",
            "\n",
            "   PPINCIMP  PPSTATEN  Qb.height_inches  Qc_weight  Qd_max_weight  \n",
            "0  0.666667  0.571429          0.636364   0.227273       0.224537  \n",
            "1  0.111111  0.571429          0.818182   0.222727       0.208333  \n",
            "2  0.611111  0.261905          0.636364   0.295455       0.282407  \n",
            "3  0.833333  0.476190          0.363636   0.090909       0.120370  \n",
            "4  0.500000  0.904762          0.818182   0.227273       0.321759  \n",
            "\n",
            "[5 rows x 428 columns]\n"
          ]
        }
      ]
    },
    {
      "cell_type": "code",
      "source": [
        "#mask out 20 percentages of entries from the complete dataset\n",
        "val_dataframe = normalized_dataframe.copy()\n",
        "# Calculate the average of each column\n",
        "#column_means = val_dataframe.mean()\n",
        "\n",
        "# Create a new data frame to mark modifications\n",
        "mask = pd.DataFrame(1, index=val_dataframe.index, columns=val_dataframe.columns)\n",
        "\n",
        "# Operate on each column\n",
        "for column in val_dataframe.columns:\n",
        "    # Determine the number of rows to replace\n",
        "    num_rows = val_dataframe.shape[0]\n",
        "    num_to_replace = int(num_rows * 0.20)  # 20% 的行\n",
        "\n",
        "    # Randomly select rows\n",
        "    rows_to_replace = np.random.choice(num_rows, num_to_replace, replace=False)\n",
        "\n",
        "    # Replace the value of the selected row with 0\n",
        "    val_dataframe.loc[rows_to_replace, column] = 0\n",
        "\n",
        "    # Set the value of the corresponding position in the mask data frame to 0\n",
        "    mask.loc[rows_to_replace, column] = 0\n",
        "\n",
        "#mask = mask.astype(float)\n",
        "print(val_dataframe.head())\n",
        "print(mask.head())"
      ],
      "metadata": {
        "colab": {
          "base_uri": "https://localhost:8080/"
        },
        "id": "0u-n2TSjXL6_",
        "outputId": "61485294-f83e-43d9-a8fc-e6a9f9b8eb24"
      },
      "execution_count": null,
      "outputs": [
        {
          "output_type": "stream",
          "name": "stdout",
          "text": [
            "   gender  SITE  CHILDREN  INPT_TX_EVER  OUTPT_TX_EVER  OTHER_TX_EVER  \\\n",
            "0     0.0   0.0       0.0           0.0            0.0            0.0   \n",
            "1     0.0   0.0       1.0           0.0            1.0            0.0   \n",
            "2     0.0   0.0       1.0           0.0            0.0            0.0   \n",
            "3     0.0   0.0       1.0           0.0            1.0            1.0   \n",
            "4     1.0   0.0       1.0           0.0            0.0            0.0   \n",
            "\n",
            "   CURRENT_MH_TX  ALCOHOL_TX  SUBST_TX  CURRENT_ALCOHOL_TX  ...  \\\n",
            "0            0.0         0.0       0.0                 0.0  ...   \n",
            "1            1.0         0.0       0.0                 0.0  ...   \n",
            "2            0.0         0.0       0.0                 0.0  ...   \n",
            "3            0.0         0.0       0.0                 0.0  ...   \n",
            "4            0.0         0.0       0.0                 0.0  ...   \n",
            "\n",
            "   Num_Traumatic  IFNPATHSCORE  PPAGE_at_interview    PPEDUC  PPHHSIZE  \\\n",
            "0       0.000000      0.409393            0.025641  0.000000  0.000000   \n",
            "1       0.545455      0.246946            0.000000  0.333333  0.000000   \n",
            "2       0.181818      0.244353            0.307692  0.000000  0.000000   \n",
            "3       0.000000      0.326890            0.871795  0.888889  0.076923   \n",
            "4       0.000000      0.000000            0.333333  0.888889  0.307692   \n",
            "\n",
            "   PPINCIMP  PPSTATEN  Qb.height_inches  Qc_weight  Qd_max_weight  \n",
            "0  0.000000  0.571429          0.636364   0.227273       0.224537  \n",
            "1  0.111111  0.571429          0.000000   0.222727       0.208333  \n",
            "2  0.611111  0.261905          0.636364   0.295455       0.282407  \n",
            "3  0.833333  0.476190          0.000000   0.090909       0.120370  \n",
            "4  0.500000  0.904762          0.000000   0.000000       0.321759  \n",
            "\n",
            "[5 rows x 428 columns]\n",
            "   gender  SITE  CHILDREN  INPT_TX_EVER  OUTPT_TX_EVER  OTHER_TX_EVER  \\\n",
            "0       1     1         1             1              1              1   \n",
            "1       1     1         1             1              1              0   \n",
            "2       1     0         1             1              1              0   \n",
            "3       0     1         1             1              1              1   \n",
            "4       1     1         1             1              1              1   \n",
            "\n",
            "   CURRENT_MH_TX  ALCOHOL_TX  SUBST_TX  CURRENT_ALCOHOL_TX  ...  \\\n",
            "0              1           1         1                   1  ...   \n",
            "1              1           1         1                   1  ...   \n",
            "2              1           1         1                   1  ...   \n",
            "3              1           1         1                   1  ...   \n",
            "4              1           1         1                   0  ...   \n",
            "\n",
            "   Num_Traumatic  IFNPATHSCORE  PPAGE_at_interview  PPEDUC  PPHHSIZE  \\\n",
            "0              1             1                   1       0         0   \n",
            "1              1             1                   0       1         0   \n",
            "2              1             1                   1       0         0   \n",
            "3              1             1                   1       1         1   \n",
            "4              0             0                   1       1         1   \n",
            "\n",
            "   PPINCIMP  PPSTATEN  Qb.height_inches  Qc_weight  Qd_max_weight  \n",
            "0         0         1                 1          1              1  \n",
            "1         1         1                 0          1              1  \n",
            "2         1         1                 1          1              1  \n",
            "3         1         1                 0          1              1  \n",
            "4         1         1                 0          0              1  \n",
            "\n",
            "[5 rows x 428 columns]\n"
          ]
        }
      ]
    },
    {
      "cell_type": "code",
      "source": [
        "#set auto_enconder\n",
        "class HadamardAutoencoder(nn.Module):\n",
        "    def __init__(self):\n",
        "        super(HadamardAutoencoder, self).__init__()\n",
        "        # Encoder part\n",
        "        self.encoder = nn.Sequential(\n",
        "            nn.Linear(in_features=428, out_features=128),\n",
        "            nn.ReLU(),\n",
        "            nn.Linear(128, 64)\n",
        "        )\n",
        "        # Decoder part\n",
        "        self.decoder = nn.Sequential(\n",
        "            nn.Linear(64, 128),\n",
        "            nn.ReLU(),\n",
        "            nn.Linear(128, 428),\n",
        "            nn.Sigmoid()\n",
        "        )\n",
        "\n",
        "    def forward(self, x):\n",
        "        x = self.encoder(x)\n",
        "        x = self.decoder(x)\n",
        "        return x\n"
      ],
      "metadata": {
        "id": "d-PFz5XMtZvl"
      },
      "execution_count": null,
      "outputs": []
    },
    {
      "cell_type": "code",
      "source": [
        "# use gpu for training if available\n",
        "device = torch.device(\"cuda\" if torch.cuda.is_available() else \"cpu\")\n",
        "print(device)"
      ],
      "metadata": {
        "colab": {
          "base_uri": "https://localhost:8080/"
        },
        "id": "L4Hwdt9058OV",
        "outputId": "52a9357e-f5f2-4aa6-ab28-be64bb0bdafc"
      },
      "execution_count": null,
      "outputs": [
        {
          "output_type": "stream",
          "name": "stdout",
          "text": [
            "cpu\n"
          ]
        }
      ]
    },
    {
      "cell_type": "code",
      "source": [
        "# instantiate the model\n",
        "model = HadamardAutoencoder()\n",
        "model.to(device) # move the model to gpu if available\n",
        "print(model)\n",
        "optimizer = optim.Adam(model.parameters(), lr=0.0025)\n",
        "criterion = nn.L1Loss()"
      ],
      "metadata": {
        "colab": {
          "base_uri": "https://localhost:8080/"
        },
        "id": "GnPfestE5mfb",
        "outputId": "3f2a0bde-c267-45fd-97da-74d286a1c1fc"
      },
      "execution_count": null,
      "outputs": [
        {
          "output_type": "stream",
          "name": "stdout",
          "text": [
            "HadamardAutoencoder(\n",
            "  (encoder): Sequential(\n",
            "    (0): Linear(in_features=428, out_features=128, bias=True)\n",
            "    (1): ReLU()\n",
            "    (2): Linear(in_features=128, out_features=64, bias=True)\n",
            "  )\n",
            "  (decoder): Sequential(\n",
            "    (0): Linear(in_features=64, out_features=128, bias=True)\n",
            "    (1): ReLU()\n",
            "    (2): Linear(in_features=128, out_features=428, bias=True)\n",
            "    (3): Sigmoid()\n",
            "  )\n",
            ")\n"
          ]
        }
      ]
    },
    {
      "cell_type": "code",
      "source": [
        "#Self-Supervision set\n",
        "replicate_size = 20\n",
        "green_points_proportion = 0.4\n",
        "\n",
        "val_dataframe = pd.concat([val_dataframe] * replicate_size, ignore_index=True)\n",
        "mask = pd.concat([mask] * replicate_size, ignore_index=True)\n",
        "print(val_dataframe.info())"
      ],
      "metadata": {
        "colab": {
          "base_uri": "https://localhost:8080/"
        },
        "id": "aUMmQnJke4nI",
        "outputId": "dc4b98e8-2b40-40bb-ca48-4458f26ac5b8"
      },
      "execution_count": null,
      "outputs": [
        {
          "output_type": "stream",
          "name": "stdout",
          "text": [
            "<class 'pandas.core.frame.DataFrame'>\n",
            "RangeIndex: 11960 entries, 0 to 11959\n",
            "Columns: 428 entries, gender to Qd_max_weight\n",
            "dtypes: float64(428)\n",
            "memory usage: 39.1 MB\n",
            "None\n"
          ]
        }
      ]
    },
    {
      "cell_type": "code",
      "source": [
        "train_dataframe = val_dataframe.copy()\n",
        "# Calculate the average of each column\n",
        "column_means = train_dataframe.mean()\n",
        "\n",
        "# Operate on each column\n",
        "for column in train_dataframe.columns:\n",
        "    # Find the row in this column where mask is 1\n",
        "    mask_rows = mask[mask[column] == 1].index\n",
        "\n",
        "    # Calculate the number of rows that need to be replaced (40%)\n",
        "    num_to_replace = int(len(mask_rows) * green_points_proportion)\n",
        "\n",
        "    # Randomly select some of these rows\n",
        "    rows_to_replace = np.random.choice(mask_rows, num_to_replace, replace=False)\n",
        "\n",
        "    # Replace the value of the selected row with the average value of the column\n",
        "    train_dataframe.loc[rows_to_replace, column] = column_means[column]\n",
        "\n",
        "print(train_dataframe.head())"
      ],
      "metadata": {
        "colab": {
          "base_uri": "https://localhost:8080/"
        },
        "id": "ylCoOj3CqH_6",
        "outputId": "4fd2f3ef-7f56-4b51-ee56-7911b0a7eecb"
      },
      "execution_count": null,
      "outputs": [
        {
          "output_type": "stream",
          "name": "stdout",
          "text": [
            "     gender     SITE  CHILDREN  INPT_TX_EVER  OUTPT_TX_EVER  OTHER_TX_EVER  \\\n",
            "0  0.000000  0.00000  0.538462      0.000000       0.000000       0.000000   \n",
            "1  0.249164  0.00000  0.538462      0.000000       1.000000       0.000000   \n",
            "2  0.000000  0.00000  0.538462      0.000000       0.367893       0.000000   \n",
            "3  0.000000  0.35786  1.000000      0.000000       0.367893       0.088629   \n",
            "4  1.000000  0.00000  1.000000      0.035117       0.367893       0.000000   \n",
            "\n",
            "   CURRENT_MH_TX  ALCOHOL_TX  SUBST_TX  CURRENT_ALCOHOL_TX  ...  \\\n",
            "0            0.0    0.016722  0.013378            0.000000  ...   \n",
            "1            1.0    0.000000  0.000000            0.000000  ...   \n",
            "2            0.0    0.016722  0.000000            0.005017  ...   \n",
            "3            0.0    0.000000  0.000000            0.000000  ...   \n",
            "4            0.0    0.016722  0.000000            0.000000  ...   \n",
            "\n",
            "   Num_Traumatic  IFNPATHSCORE  PPAGE_at_interview    PPEDUC  PPHHSIZE  \\\n",
            "0       0.071754      0.315685            0.483578  0.000000  0.000000   \n",
            "1       0.545455      0.315685            0.000000  0.333333  0.000000   \n",
            "2       0.181818      0.315685            0.307692  0.000000  0.000000   \n",
            "3       0.000000      0.326890            0.871795  0.888889  0.076923   \n",
            "4       0.000000      0.000000            0.483578  0.575251  0.307692   \n",
            "\n",
            "   PPINCIMP  PPSTATEN  Qb.height_inches  Qc_weight  Qd_max_weight  \n",
            "0  0.000000  0.571429          0.373822   0.151421       0.224537  \n",
            "1  0.111111  0.435917          0.000000   0.222727       0.208333  \n",
            "2  0.611111  0.261905          0.373822   0.151421       0.282407  \n",
            "3  0.833333  0.435917          0.000000   0.151421       0.166140  \n",
            "4  0.500000  0.904762          0.000000   0.000000       0.166140  \n",
            "\n",
            "[5 rows x 428 columns]\n"
          ]
        }
      ]
    },
    {
      "cell_type": "code",
      "source": [
        "#prepare data\n",
        "val_dataframe = val_dataframe.astype(float)\n",
        "train_dataframe = train_dataframe.astype(float)\n",
        "mask = mask.astype(float)\n",
        "validation = torch.tensor(val_dataframe.values)\n",
        "train = torch.tensor(train_dataframe.values)\n",
        "mask_value = torch.tensor(mask.values)\n",
        "dataset = TensorDataset(train, validation, mask_value)\n",
        "data_loader = DataLoader(dataset, batch_size=32, shuffle=True)\n",
        "print(train_dataframe.head())\n",
        "print(val_dataframe.head())"
      ],
      "metadata": {
        "colab": {
          "base_uri": "https://localhost:8080/"
        },
        "id": "HjYTRprzvYoi",
        "outputId": "d166825f-7539-419e-8977-39b2d1beaa7c"
      },
      "execution_count": null,
      "outputs": [
        {
          "output_type": "stream",
          "name": "stdout",
          "text": [
            "     gender     SITE  CHILDREN  INPT_TX_EVER  OUTPT_TX_EVER  OTHER_TX_EVER  \\\n",
            "0  0.000000  0.00000  0.538462      0.000000       0.000000       0.000000   \n",
            "1  0.249164  0.00000  0.538462      0.000000       1.000000       0.000000   \n",
            "2  0.000000  0.00000  0.538462      0.000000       0.367893       0.000000   \n",
            "3  0.000000  0.35786  1.000000      0.000000       0.367893       0.088629   \n",
            "4  1.000000  0.00000  1.000000      0.035117       0.367893       0.000000   \n",
            "\n",
            "   CURRENT_MH_TX  ALCOHOL_TX  SUBST_TX  CURRENT_ALCOHOL_TX  ...  \\\n",
            "0            0.0    0.016722  0.013378            0.000000  ...   \n",
            "1            1.0    0.000000  0.000000            0.000000  ...   \n",
            "2            0.0    0.016722  0.000000            0.005017  ...   \n",
            "3            0.0    0.000000  0.000000            0.000000  ...   \n",
            "4            0.0    0.016722  0.000000            0.000000  ...   \n",
            "\n",
            "   Num_Traumatic  IFNPATHSCORE  PPAGE_at_interview    PPEDUC  PPHHSIZE  \\\n",
            "0       0.071754      0.315685            0.483578  0.000000  0.000000   \n",
            "1       0.545455      0.315685            0.000000  0.333333  0.000000   \n",
            "2       0.181818      0.315685            0.307692  0.000000  0.000000   \n",
            "3       0.000000      0.326890            0.871795  0.888889  0.076923   \n",
            "4       0.000000      0.000000            0.483578  0.575251  0.307692   \n",
            "\n",
            "   PPINCIMP  PPSTATEN  Qb.height_inches  Qc_weight  Qd_max_weight  \n",
            "0  0.000000  0.571429          0.373822   0.151421       0.224537  \n",
            "1  0.111111  0.435917          0.000000   0.222727       0.208333  \n",
            "2  0.611111  0.261905          0.373822   0.151421       0.282407  \n",
            "3  0.833333  0.435917          0.000000   0.151421       0.166140  \n",
            "4  0.500000  0.904762          0.000000   0.000000       0.166140  \n",
            "\n",
            "[5 rows x 428 columns]\n",
            "   gender  SITE  CHILDREN  INPT_TX_EVER  OUTPT_TX_EVER  OTHER_TX_EVER  \\\n",
            "0     0.0   0.0       0.0           0.0            0.0            0.0   \n",
            "1     0.0   0.0       1.0           0.0            1.0            0.0   \n",
            "2     0.0   0.0       1.0           0.0            0.0            0.0   \n",
            "3     0.0   0.0       1.0           0.0            1.0            1.0   \n",
            "4     1.0   0.0       1.0           0.0            0.0            0.0   \n",
            "\n",
            "   CURRENT_MH_TX  ALCOHOL_TX  SUBST_TX  CURRENT_ALCOHOL_TX  ...  \\\n",
            "0            0.0         0.0       0.0                 0.0  ...   \n",
            "1            1.0         0.0       0.0                 0.0  ...   \n",
            "2            0.0         0.0       0.0                 0.0  ...   \n",
            "3            0.0         0.0       0.0                 0.0  ...   \n",
            "4            0.0         0.0       0.0                 0.0  ...   \n",
            "\n",
            "   Num_Traumatic  IFNPATHSCORE  PPAGE_at_interview    PPEDUC  PPHHSIZE  \\\n",
            "0       0.000000      0.409393            0.025641  0.000000  0.000000   \n",
            "1       0.545455      0.246946            0.000000  0.333333  0.000000   \n",
            "2       0.181818      0.244353            0.307692  0.000000  0.000000   \n",
            "3       0.000000      0.326890            0.871795  0.888889  0.076923   \n",
            "4       0.000000      0.000000            0.333333  0.888889  0.307692   \n",
            "\n",
            "   PPINCIMP  PPSTATEN  Qb.height_inches  Qc_weight  Qd_max_weight  \n",
            "0  0.000000  0.571429          0.636364   0.227273       0.224537  \n",
            "1  0.111111  0.571429          0.000000   0.222727       0.208333  \n",
            "2  0.611111  0.261905          0.636364   0.295455       0.282407  \n",
            "3  0.833333  0.476190          0.000000   0.090909       0.120370  \n",
            "4  0.500000  0.904762          0.000000   0.000000       0.321759  \n",
            "\n",
            "[5 rows x 428 columns]\n"
          ]
        }
      ]
    },
    {
      "cell_type": "code",
      "source": [
        "#train the model\n",
        "epochs = 100\n",
        "for epoch in range(epochs):\n",
        "    for train_data, val_data, mask_data in data_loader:\n",
        "        # Move data to the specified device (GPU or CPU)\n",
        "        train_data = train_data.to(device).float()\n",
        "        val_data = val_data.to(device).float()\n",
        "        mask_data = mask_data.to(device).float()\n",
        "\n",
        "        optimizer.zero_grad()\n",
        "        output = model(train_data)\n",
        "        loss = criterion(output * mask_data, val_data * mask_data)  # Apply Hadamard product\n",
        "        loss.backward()\n",
        "        optimizer.step()\n",
        "\n",
        "    if epoch % 1 == 0:\n",
        "        print(f'Epoch {epoch}, Loss: {loss.item()}')\n",
        "\n",
        "train = train.float()\n",
        "final = model(train)\n",
        "loss = criterion(final * mask_value, validation * mask_value)\n",
        "print(f'Loss: {loss.item()}')"
      ],
      "metadata": {
        "colab": {
          "base_uri": "https://localhost:8080/"
        },
        "id": "XAdBNf88nS4O",
        "outputId": "48e8176d-83b4-47da-b880-e89cb337180a"
      },
      "execution_count": null,
      "outputs": [
        {
          "output_type": "stream",
          "name": "stdout",
          "text": [
            "Epoch 0, Loss: 0.07354068756103516\n",
            "Epoch 1, Loss: 0.06960638612508774\n",
            "Epoch 2, Loss: 0.046210817992687225\n",
            "Epoch 3, Loss: 0.04968269541859627\n",
            "Epoch 4, Loss: 0.04692194610834122\n",
            "Epoch 5, Loss: 0.04717746749520302\n",
            "Epoch 6, Loss: 0.04546152800321579\n",
            "Epoch 7, Loss: 0.044867608696222305\n",
            "Epoch 8, Loss: 0.04134365916252136\n",
            "Epoch 9, Loss: 0.04170065000653267\n",
            "Epoch 10, Loss: 0.04074101895093918\n",
            "Epoch 11, Loss: 0.03683416545391083\n",
            "Epoch 12, Loss: 0.03378558158874512\n",
            "Epoch 13, Loss: 0.03409377485513687\n",
            "Epoch 14, Loss: 0.032355066388845444\n",
            "Epoch 15, Loss: 0.03192482888698578\n",
            "Epoch 16, Loss: 0.029738357290625572\n",
            "Epoch 17, Loss: 0.027549967169761658\n",
            "Epoch 18, Loss: 0.03090822510421276\n",
            "Epoch 19, Loss: 0.027327101677656174\n",
            "Epoch 20, Loss: 0.029516415670514107\n",
            "Epoch 21, Loss: 0.032110244035720825\n",
            "Epoch 22, Loss: 0.029304414987564087\n",
            "Epoch 23, Loss: 0.026119213551282883\n",
            "Epoch 24, Loss: 0.026797983795404434\n",
            "Epoch 25, Loss: 0.028857536613941193\n",
            "Epoch 26, Loss: 0.03053271770477295\n",
            "Epoch 27, Loss: 0.024623600766062737\n",
            "Epoch 28, Loss: 0.028444183990359306\n",
            "Epoch 29, Loss: 0.02904455177485943\n",
            "Epoch 30, Loss: 0.02596823312342167\n",
            "Epoch 31, Loss: 0.028460007160902023\n",
            "Epoch 32, Loss: 0.02578205242753029\n",
            "Epoch 33, Loss: 0.020971637219190598\n",
            "Epoch 34, Loss: 0.02531646378338337\n",
            "Epoch 35, Loss: 0.029793288558721542\n",
            "Epoch 36, Loss: 0.024995161220431328\n",
            "Epoch 37, Loss: 0.0245862677693367\n",
            "Epoch 38, Loss: 0.022052539512515068\n",
            "Epoch 39, Loss: 0.02484186552464962\n",
            "Epoch 40, Loss: 0.02465643174946308\n",
            "Epoch 41, Loss: 0.023455509915947914\n",
            "Epoch 42, Loss: 0.025272084400057793\n",
            "Epoch 43, Loss: 0.022144945338368416\n",
            "Epoch 44, Loss: 0.02204662747681141\n",
            "Epoch 45, Loss: 0.023631364107131958\n",
            "Epoch 46, Loss: 0.024025067687034607\n",
            "Epoch 47, Loss: 0.02381727658212185\n",
            "Epoch 48, Loss: 0.02372891455888748\n",
            "Epoch 49, Loss: 0.024985749274492264\n",
            "Epoch 50, Loss: 0.02713819593191147\n",
            "Epoch 51, Loss: 0.027140671387314796\n",
            "Epoch 52, Loss: 0.021848218515515327\n",
            "Epoch 53, Loss: 0.020846610888838768\n",
            "Epoch 54, Loss: 0.024513982236385345\n",
            "Epoch 55, Loss: 0.022721337154507637\n",
            "Epoch 56, Loss: 0.020915396511554718\n",
            "Epoch 57, Loss: 0.020612308755517006\n",
            "Epoch 58, Loss: 0.022639676928520203\n",
            "Epoch 59, Loss: 0.022501016035676003\n",
            "Epoch 60, Loss: 0.021604998037219048\n",
            "Epoch 61, Loss: 0.02068473771214485\n",
            "Epoch 62, Loss: 0.02461143583059311\n",
            "Epoch 63, Loss: 0.02354912832379341\n",
            "Epoch 64, Loss: 0.020607247948646545\n",
            "Epoch 65, Loss: 0.022769520059227943\n",
            "Epoch 66, Loss: 0.017773354426026344\n",
            "Epoch 67, Loss: 0.024859201163053513\n",
            "Epoch 68, Loss: 0.021084198728203773\n",
            "Epoch 69, Loss: 0.023429032415151596\n",
            "Epoch 70, Loss: 0.02056550607085228\n",
            "Epoch 71, Loss: 0.017004959285259247\n",
            "Epoch 72, Loss: 0.01880844309926033\n",
            "Epoch 73, Loss: 0.020382873713970184\n",
            "Epoch 74, Loss: 0.023867173120379448\n",
            "Epoch 75, Loss: 0.016583243384957314\n",
            "Epoch 76, Loss: 0.020309582352638245\n",
            "Epoch 77, Loss: 0.01963718794286251\n",
            "Epoch 78, Loss: 0.020815078169107437\n",
            "Epoch 79, Loss: 0.02248389646410942\n",
            "Epoch 80, Loss: 0.022978579625487328\n",
            "Epoch 81, Loss: 0.02094048261642456\n",
            "Epoch 82, Loss: 0.02027408964931965\n",
            "Epoch 83, Loss: 0.020223593339323997\n",
            "Epoch 84, Loss: 0.01966245099902153\n",
            "Epoch 85, Loss: 0.020854521542787552\n",
            "Epoch 86, Loss: 0.01952843926846981\n",
            "Epoch 87, Loss: 0.018825016915798187\n",
            "Epoch 88, Loss: 0.02056308463215828\n",
            "Epoch 89, Loss: 0.01751282438635826\n",
            "Epoch 90, Loss: 0.019436689093708992\n",
            "Epoch 91, Loss: 0.020590929314494133\n",
            "Epoch 92, Loss: 0.01955484040081501\n",
            "Epoch 93, Loss: 0.019694846123456955\n",
            "Epoch 94, Loss: 0.02354108728468418\n",
            "Epoch 95, Loss: 0.018311871215701103\n",
            "Epoch 96, Loss: 0.024571852758526802\n",
            "Epoch 97, Loss: 0.018202941864728928\n",
            "Epoch 98, Loss: 0.021551480516791344\n",
            "Epoch 99, Loss: 0.01810600236058235\n",
            "Loss: 0.01913246917226145\n"
          ]
        }
      ]
    },
    {
      "cell_type": "code",
      "source": [
        "loss=criterion(train * mask_value, validation * mask_value)\n",
        "print(f'Loss: {loss.item()}')"
      ],
      "metadata": {
        "colab": {
          "base_uri": "https://localhost:8080/"
        },
        "id": "41ybQSwG9bja",
        "outputId": "8dcf6f2e-59b8-4e3d-8e80-ba7367b95032"
      },
      "execution_count": null,
      "outputs": [
        {
          "output_type": "stream",
          "name": "stdout",
          "text": [
            "Loss: 0.04603539594306341\n"
          ]
        }
      ]
    },
    {
      "cell_type": "code",
      "source": [
        "#deal with normalized_dataframe\n",
        "normalized_dataframe = pd.concat([normalized_dataframe] * replicate_size, ignore_index=True)\n",
        "norm = torch.tensor(normalized_dataframe.values)\n",
        "loss=criterion(validation , norm )\n",
        "print(f'Loss: {loss.item()}')\n",
        "#This is the loss of average imputation"
      ],
      "metadata": {
        "colab": {
          "base_uri": "https://localhost:8080/"
        },
        "id": "0nxZ77fQKIfX",
        "outputId": "080b1461-84df-4a58-e561-eb71bf28c93f"
      },
      "execution_count": null,
      "outputs": [
        {
          "output_type": "stream",
          "name": "stdout",
          "text": [
            "Loss: 0.03536496648385201\n"
          ]
        }
      ]
    },
    {
      "cell_type": "code",
      "source": [
        "validation = validation.float()\n",
        "impute = model(validation)\n",
        "impute_norm = torch.where(mask_value == 1, validation, impute)\n",
        "loss=criterion(impute_norm , norm )\n",
        "print(f'Loss: {loss.item()}')\n",
        "#This is the loss of the imputation we use"
      ],
      "metadata": {
        "colab": {
          "base_uri": "https://localhost:8080/"
        },
        "id": "PixKlO7WOUTh",
        "outputId": "aa1d51aa-00c3-4bef-d6eb-da80788963f7"
      },
      "execution_count": null,
      "outputs": [
        {
          "output_type": "stream",
          "name": "stdout",
          "text": [
            "Loss: 0.01321116346847616\n"
          ]
        }
      ]
    },
    {
      "cell_type": "code",
      "source": [
        "#read original data\n",
        "origin = pd.read_csv('/gdrive/My Drive/Colab Notebooks/cutoff_dataset_final.txt', delimiter='\\t')\n",
        "mask_na = (~origin.isna()).astype(int)\n",
        "origin.fillna(df.mean(), inplace=True)\n",
        "print(origin.info())\n",
        "print(origin.head())\n",
        "print(mask_na.info())\n",
        "print(mask_na.head())"
      ],
      "metadata": {
        "colab": {
          "base_uri": "https://localhost:8080/"
        },
        "id": "U0L0ky09Wdop",
        "outputId": "26bdd0d6-c3b2-4352-fea6-2433fa150f93"
      },
      "execution_count": null,
      "outputs": [
        {
          "output_type": "stream",
          "name": "stdout",
          "text": [
            "<class 'pandas.core.frame.DataFrame'>\n",
            "RangeIndex: 921 entries, 0 to 920\n",
            "Columns: 428 entries, gender to Qd_max_weight\n",
            "dtypes: float64(145), int64(283)\n",
            "memory usage: 3.0 MB\n",
            "None\n",
            "   gender  SITE  CHILDREN  INPT_TX_EVER  OUTPT_TX_EVER  OTHER_TX_EVER  \\\n",
            "0       0     0       1.0           1.0            1.0       3.000000   \n",
            "1       0     0       1.0           1.0            1.0       1.000000   \n",
            "2       1     0       3.0           1.0            3.0       1.000000   \n",
            "3       0     0       3.0           1.0            3.0       1.214047   \n",
            "4       0     0       3.0           1.0            3.0       3.000000   \n",
            "\n",
            "   CURRENT_MH_TX  ALCOHOL_TX  SUBST_TX  CURRENT_ALCOHOL_TX  ...  \\\n",
            "0       1.000000         1.0       1.0                 1.0  ...   \n",
            "1       1.000000         1.0       1.0                 1.0  ...   \n",
            "2       1.397993         1.0       1.0                 1.0  ...   \n",
            "3       3.000000         1.0       1.0                 1.0  ...   \n",
            "4       3.000000         1.0       1.0                 1.0  ...   \n",
            "\n",
            "   Num_Traumatic  IFNPATHSCORE  PPAGE_at_interview  PPEDUC  PPHHSIZE  \\\n",
            "0              6     -0.026536                  55      10         1   \n",
            "1              0      0.002986                  22      10         4   \n",
            "2              0      0.000981                  38      12         3   \n",
            "3              0      0.069209                  42      10         3   \n",
            "4              6     -0.030276                  59       8         1   \n",
            "\n",
            "   PPINCIMP  PPSTATEN  Qb.height_inches  Qc_weight  Qd_max_weight  \n",
            "0        13        59               8.0      158.0          183.0  \n",
            "1        13        59               7.0      200.0          205.0  \n",
            "2        17        16               8.0      185.0          192.0  \n",
            "3         8        16               2.0      145.0          197.0  \n",
            "4         3        59               9.0      198.0          198.0  \n",
            "\n",
            "[5 rows x 428 columns]\n",
            "<class 'pandas.core.frame.DataFrame'>\n",
            "RangeIndex: 921 entries, 0 to 920\n",
            "Columns: 428 entries, gender to Qd_max_weight\n",
            "dtypes: int64(428)\n",
            "memory usage: 3.0 MB\n",
            "None\n",
            "   gender  SITE  CHILDREN  INPT_TX_EVER  OUTPT_TX_EVER  OTHER_TX_EVER  \\\n",
            "0       1     1         1             1              1              1   \n",
            "1       1     1         1             1              1              1   \n",
            "2       1     1         1             1              1              1   \n",
            "3       1     1         1             1              1              0   \n",
            "4       1     1         1             1              1              1   \n",
            "\n",
            "   CURRENT_MH_TX  ALCOHOL_TX  SUBST_TX  CURRENT_ALCOHOL_TX  ...  \\\n",
            "0              1           1         1                   1  ...   \n",
            "1              1           1         1                   1  ...   \n",
            "2              0           1         1                   1  ...   \n",
            "3              1           1         1                   1  ...   \n",
            "4              1           1         1                   1  ...   \n",
            "\n",
            "   Num_Traumatic  IFNPATHSCORE  PPAGE_at_interview  PPEDUC  PPHHSIZE  \\\n",
            "0              1             1                   1       1         1   \n",
            "1              1             1                   1       1         1   \n",
            "2              1             1                   1       1         1   \n",
            "3              1             1                   1       1         1   \n",
            "4              1             1                   1       1         1   \n",
            "\n",
            "   PPINCIMP  PPSTATEN  Qb.height_inches  Qc_weight  Qd_max_weight  \n",
            "0         1         1                 1          1              1  \n",
            "1         1         1                 1          1              1  \n",
            "2         1         1                 1          1              1  \n",
            "3         1         1                 1          1              1  \n",
            "4         1         1                 1          1              1  \n",
            "\n",
            "[5 rows x 428 columns]\n"
          ]
        }
      ]
    },
    {
      "cell_type": "code",
      "source": [
        "#normalization\n",
        "scaler = MinMaxScaler()\n",
        "normalized_origin = scaler.fit_transform(origin)\n",
        "normalized_origin = pd.DataFrame(normalized_origin, columns=origin.columns)\n",
        "print(normalized_origin.head())"
      ],
      "metadata": {
        "colab": {
          "base_uri": "https://localhost:8080/"
        },
        "id": "vU4JNhN-XSzo",
        "outputId": "b6db803f-9d74-4fc7-f55c-55ca91946015"
      },
      "execution_count": null,
      "outputs": [
        {
          "output_type": "stream",
          "name": "stdout",
          "text": [
            "   gender  SITE  CHILDREN  INPT_TX_EVER  OUTPT_TX_EVER  OTHER_TX_EVER  \\\n",
            "0     0.0   0.0       0.0           0.0            0.0       1.000000   \n",
            "1     0.0   0.0       0.0           0.0            0.0       0.000000   \n",
            "2     1.0   0.0       1.0           0.0            1.0       0.000000   \n",
            "3     0.0   0.0       1.0           0.0            1.0       0.107023   \n",
            "4     0.0   0.0       1.0           0.0            1.0       1.000000   \n",
            "\n",
            "   CURRENT_MH_TX  ALCOHOL_TX  SUBST_TX  CURRENT_ALCOHOL_TX  ...  \\\n",
            "0       0.000000         0.0       0.0                 0.0  ...   \n",
            "1       0.000000         0.0       0.0                 0.0  ...   \n",
            "2       0.198997         0.0       0.0                 0.0  ...   \n",
            "3       1.000000         0.0       0.0                 0.0  ...   \n",
            "4       1.000000         0.0       0.0                 0.0  ...   \n",
            "\n",
            "   Num_Traumatic  IFNPATHSCORE  PPAGE_at_interview    PPEDUC  PPHHSIZE  \\\n",
            "0       0.545455      0.322126            0.871795  0.555556  0.000000   \n",
            "1       0.000000      0.435186            0.025641  0.555556  0.230769   \n",
            "2       0.000000      0.427508            0.435897  0.777778  0.153846   \n",
            "3       0.000000      0.688800            0.538462  0.555556  0.153846   \n",
            "4       0.545455      0.307803            0.974359  0.333333  0.000000   \n",
            "\n",
            "   PPINCIMP  PPSTATEN  Qb.height_inches  Qc_weight  Qd_max_weight  \n",
            "0  0.666667  0.571429          0.727273   0.131818       0.173611  \n",
            "1  0.666667  0.571429          0.636364   0.227273       0.224537  \n",
            "2  0.888889  0.059524          0.727273   0.193182       0.194444  \n",
            "3  0.388889  0.059524          0.181818   0.102273       0.206019  \n",
            "4  0.111111  0.571429          0.818182   0.222727       0.208333  \n",
            "\n",
            "[5 rows x 428 columns]\n"
          ]
        }
      ]
    },
    {
      "cell_type": "code",
      "source": [
        "\n",
        "origin_tensor = torch.tensor(normalized_origin.values)\n",
        "cover = torch.tensor(mask_na.values)\n",
        "\n",
        "origin_tensor = origin_tensor.float()\n",
        "origin_impute = model(origin_tensor)\n",
        "new = torch.where(cover == 1, origin_tensor, origin_impute)\n",
        "\n",
        "new_detached = new.detach()\n",
        "new_np = new_detached.numpy()\n",
        "new_dataframe = pd.DataFrame(new_np, columns=origin.columns)\n",
        "print(new_dataframe.head())\n",
        "print(normalized_origin.head())"
      ],
      "metadata": {
        "colab": {
          "base_uri": "https://localhost:8080/"
        },
        "id": "IM_GJqnLX7Dq",
        "outputId": "7ce78c88-3409-42b4-c417-75aaed9a6c29"
      },
      "execution_count": null,
      "outputs": [
        {
          "output_type": "stream",
          "name": "stdout",
          "text": [
            "   gender  SITE  CHILDREN  INPT_TX_EVER  OUTPT_TX_EVER  OTHER_TX_EVER  \\\n",
            "0     0.0   0.0       0.0           0.0            0.0   1.000000e+00   \n",
            "1     0.0   0.0       0.0           0.0            0.0   0.000000e+00   \n",
            "2     1.0   0.0       1.0           0.0            1.0   0.000000e+00   \n",
            "3     0.0   0.0       1.0           0.0            1.0   4.290291e-18   \n",
            "4     0.0   0.0       1.0           0.0            1.0   1.000000e+00   \n",
            "\n",
            "   CURRENT_MH_TX  ALCOHOL_TX  SUBST_TX  CURRENT_ALCOHOL_TX  ...  \\\n",
            "0            0.0         0.0       0.0                 0.0  ...   \n",
            "1            0.0         0.0       0.0                 0.0  ...   \n",
            "2            0.0         0.0       0.0                 0.0  ...   \n",
            "3            1.0         0.0       0.0                 0.0  ...   \n",
            "4            1.0         0.0       0.0                 0.0  ...   \n",
            "\n",
            "   Num_Traumatic  IFNPATHSCORE  PPAGE_at_interview    PPEDUC  PPHHSIZE  \\\n",
            "0       0.545455      0.322126            0.871795  0.555556  0.000000   \n",
            "1       0.000000      0.435186            0.025641  0.555556  0.230769   \n",
            "2       0.000000      0.427508            0.435897  0.777778  0.153846   \n",
            "3       0.000000      0.688800            0.538462  0.555556  0.153846   \n",
            "4       0.545455      0.307803            0.974359  0.333333  0.000000   \n",
            "\n",
            "   PPINCIMP  PPSTATEN  Qb.height_inches  Qc_weight  Qd_max_weight  \n",
            "0  0.666667  0.571429          0.727273   0.131818       0.173611  \n",
            "1  0.666667  0.571429          0.636364   0.227273       0.224537  \n",
            "2  0.888889  0.059524          0.727273   0.193182       0.194444  \n",
            "3  0.388889  0.059524          0.181818   0.102273       0.206019  \n",
            "4  0.111111  0.571429          0.818182   0.222727       0.208333  \n",
            "\n",
            "[5 rows x 428 columns]\n",
            "   gender  SITE  CHILDREN  INPT_TX_EVER  OUTPT_TX_EVER  OTHER_TX_EVER  \\\n",
            "0     0.0   0.0       0.0           0.0            0.0       1.000000   \n",
            "1     0.0   0.0       0.0           0.0            0.0       0.000000   \n",
            "2     1.0   0.0       1.0           0.0            1.0       0.000000   \n",
            "3     0.0   0.0       1.0           0.0            1.0       0.107023   \n",
            "4     0.0   0.0       1.0           0.0            1.0       1.000000   \n",
            "\n",
            "   CURRENT_MH_TX  ALCOHOL_TX  SUBST_TX  CURRENT_ALCOHOL_TX  ...  \\\n",
            "0       0.000000         0.0       0.0                 0.0  ...   \n",
            "1       0.000000         0.0       0.0                 0.0  ...   \n",
            "2       0.198997         0.0       0.0                 0.0  ...   \n",
            "3       1.000000         0.0       0.0                 0.0  ...   \n",
            "4       1.000000         0.0       0.0                 0.0  ...   \n",
            "\n",
            "   Num_Traumatic  IFNPATHSCORE  PPAGE_at_interview    PPEDUC  PPHHSIZE  \\\n",
            "0       0.545455      0.322126            0.871795  0.555556  0.000000   \n",
            "1       0.000000      0.435186            0.025641  0.555556  0.230769   \n",
            "2       0.000000      0.427508            0.435897  0.777778  0.153846   \n",
            "3       0.000000      0.688800            0.538462  0.555556  0.153846   \n",
            "4       0.545455      0.307803            0.974359  0.333333  0.000000   \n",
            "\n",
            "   PPINCIMP  PPSTATEN  Qb.height_inches  Qc_weight  Qd_max_weight  \n",
            "0  0.666667  0.571429          0.727273   0.131818       0.173611  \n",
            "1  0.666667  0.571429          0.636364   0.227273       0.224537  \n",
            "2  0.888889  0.059524          0.727273   0.193182       0.194444  \n",
            "3  0.388889  0.059524          0.181818   0.102273       0.206019  \n",
            "4  0.111111  0.571429          0.818182   0.222727       0.208333  \n",
            "\n",
            "[5 rows x 428 columns]\n"
          ]
        }
      ]
    },
    {
      "cell_type": "code",
      "source": [
        "new_dataframe.to_csv('/gdrive/My Drive/Colab Notebooks/dataset_output.txt', sep='\\t', index=False)"
      ],
      "metadata": {
        "id": "WQYdd7IvcrCL"
      },
      "execution_count": null,
      "outputs": []
    }
  ]
}